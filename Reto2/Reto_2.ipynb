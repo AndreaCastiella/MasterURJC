{
 "cells": [
  {
   "cell_type": "markdown",
   "metadata": {
    "collapsed": true,
    "pycharm": {
     "name": "#%% md\n"
    }
   },
   "source": [
    "# Reto 2\n",
    "\n",
    "## Miguel Ortiz y Andrea Castiella\n"
   ]
  },
  {
   "cell_type": "code",
   "execution_count": 1,
   "metadata": {
    "collapsed": false,
    "pycharm": {
     "name": "#%%\n"
    }
   },
   "outputs": [],
   "source": [
    "import numpy  as np\n",
    "import pandas as pd\n",
    "import OurUtils as our\n",
    "from sklearn.model_selection import StratifiedShuffleSplit\n",
    "from sklearn.preprocessing import MinMaxScaler\n",
    "from sklearn.metrics import confusion_matrix, precision_recall_fscore_support"
   ]
  },
  {
   "cell_type": "code",
   "execution_count": 2,
   "metadata": {
    "collapsed": false,
    "pycharm": {
     "name": "#%%\n"
    }
   },
   "outputs": [],
   "source": [
    "FullSet_0 = pd.read_csv('./Reto2-Datasets/1000_cero.csv', header=None)\n",
    "FullSet_3 = pd.read_csv('./Reto2-Datasets/1000_tres.csv', header=None)\n",
    "FullSet_6 = pd.read_csv('./Reto2-Datasets/1000_seis.csv', header=None)\n",
    "FullSet_9 = pd.read_csv('./Reto2-Datasets/1000_nueve.csv', header=None)\n",
    "\n",
    "\n",
    "# Scale image to range [0,1]\n",
    "FullSet_0 = FullSet_0 / 255.0\n",
    "FullSet_3 = FullSet_3 / 255.0\n",
    "FullSet_6 = FullSet_6 / 255.0\n",
    "FullSet_9 = FullSet_9 / 255.0"
   ]
  },
  {
   "cell_type": "markdown",
   "metadata": {
    "collapsed": false
   },
   "source": [
    "## Feature Engineering\n",
    "- Feature multiplication\n",
    "- Feature division"
   ]
  },
  {
   "cell_type": "code",
   "execution_count": 3,
   "metadata": {
    "collapsed": false,
    "pycharm": {
     "name": "#%%\n"
    }
   },
   "outputs": [],
   "source": [
    "# Multiplies the value of two given characteristics\n",
    "def feat_mult(features, feat_name='', feat1 = 'feat_2', feat2 = 'feat-5'):\n",
    "    mult = features[feat1] * features[feat2]\n",
    "    return pd.DataFrame({feat_name:mult})\n",
    "\n",
    "# Divides the value of two given characteristics\n",
    "def feat_div(features, feat_name='', feat1 = 'feat_2', feat2 = 'feat-4'):\n",
    "    div = features[feat1] / (features[feat2] + 0.00001)\n",
    "    return pd.DataFrame({feat_name:div})\n"
   ]
  },
  {
   "cell_type": "markdown",
   "metadata": {
    "collapsed": false
   },
   "source": [
    "## Feature extraction\n",
    "Label for number 3: 0\n",
    "\n",
    "Label for number 7: 1\n"
   ]
  },
  {
   "cell_type": "code",
   "execution_count": 4,
   "metadata": {
    "collapsed": false,
    "pycharm": {
     "name": "#%%\n"
    }
   },
   "outputs": [],
   "source": [
    "FullSet = our.join_features_labels(FullSet_0, FullSet_3, FullSet_6, FullSet_9)\n",
    "seed = 1234\n",
    "theta = 0.5\n",
    "X_full = our.feat_extraction( FullSet.drop('label', axis=1))\n",
    "area = feat_mult(X_full, 'area', feat1='feat_7', feat2='feat_8')\n",
    "X_full = pd.concat([X_full, area],axis=1)\n",
    "mult_25 = feat_mult(X_full, 'mult_25', feat1='feat_2', feat2='feat_5')\n",
    "X_full = pd.concat([X_full, mult_25],axis=1)\n",
    "div_24 = feat_div(X_full, 'div_24', feat1='feat_2', feat2='feat_4')\n",
    "X_full = pd.concat([X_full, div_24],axis=1)\n",
    "#X_full.head()\n",
    "Y_full = FullSet[['label']]\n",
    "#print(np.unique(Y_full.values))\n"
   ]
  },
  {
   "cell_type": "markdown",
   "metadata": {
    "collapsed": false
   },
   "source": [
    "## Split dataset\n",
    "Train split: 1600 samples (80%)\n",
    "\n",
    "Validation split: 400 samples (20%)"
   ]
  },
  {
   "cell_type": "code",
   "execution_count": 5,
   "metadata": {
    "collapsed": false,
    "pycharm": {
     "name": "#%%\n"
    }
   },
   "outputs": [],
   "source": [
    "valid_size = 0.1\n",
    "splitter = StratifiedShuffleSplit(n_splits=1, test_size=valid_size, random_state=seed)\n",
    "split_ix = splitter.split(X_full,Y_full)\n",
    "for train_ix, test_ix in split_ix:\n",
    "    X_train = X_full.loc[train_ix].reset_index(drop=True)\n",
    "    Y_train = Y_full.loc[train_ix].reset_index(drop=True)\n",
    "    X_test  = X_full.loc[test_ix].reset_index(drop=True)\n",
    "    Y_test  = Y_full.loc[test_ix].reset_index(drop=True)"
   ]
  },
  {
   "cell_type": "code",
   "execution_count": 6,
   "metadata": {
    "collapsed": false,
    "pycharm": {
     "name": "#%%\n"
    }
   },
   "outputs": [],
   "source": [
    "# Selected features after analyzing different combinations\n",
    "feats = ['feat_9', 'div_24']\n",
    "scaler = MinMaxScaler()\n",
    "X = scaler.fit_transform(X_train) # feats\n",
    "Y = Y_train.values.ravel() # Returns data as numpy array\n"
   ]
  },
  {
   "cell_type": "code",
   "execution_count": 7,
   "metadata": {
    "collapsed": false,
    "pycharm": {
     "name": "#%%\n"
    }
   },
   "outputs": [
    {
     "name": "stdout",
     "output_type": "stream",
     "text": [
      "OvO produces 6 classifiers\n",
      "OvR produces 4 classifiers\n"
     ]
    }
   ],
   "source": [
    "from sklearn.multiclass import OneVsOneClassifier\n",
    "from sklearn.multiclass import OneVsRestClassifier\n",
    "\n",
    "from sklearn.svm import SVC\n",
    "\n",
    "base_clf = SVC(kernel='rbf', degree=2, gamma=1, random_state = seed) #<- it can be any other one\n",
    "\n",
    "# Train OvO - SVM\n",
    "OvO_clf = OneVsOneClassifier(base_clf)\n",
    "OvO_clf.fit(X,Y)\n",
    "\n",
    "# Train OvR - SVM\n",
    "OvR_clf = OneVsRestClassifier(base_clf)\n",
    "OvR_clf.fit(X,Y)\n",
    "\n",
    "# Check\n",
    "strlog = \"OvO produces %d classifiers\" %(len(OvO_clf.estimators_))\n",
    "print(strlog)\n",
    "strlog = \"OvR produces %d classifiers\" %(len(OvR_clf.estimators_))\n",
    "print(strlog)\n"
   ]
  },
  {
   "cell_type": "code",
   "execution_count": 8,
   "metadata": {},
   "outputs": [
    {
     "data": {
      "text/plain": [
       "LogisticRegression()"
      ]
     },
     "execution_count": 8,
     "metadata": {},
     "output_type": "execute_result"
    }
   ],
   "source": [
    "from sklearn.linear_model import LogisticRegression\n",
    "recta_regresion = LogisticRegression()\n",
    "recta_regresion.fit(X,Y)"
   ]
  },
  {
   "cell_type": "code",
   "execution_count": 9,
   "metadata": {
    "collapsed": false,
    "pycharm": {
     "name": "#%%\n"
    }
   },
   "outputs": [],
   "source": [
    "# Feature engineering, selection and rescaling to [0,1]\n",
    "X_pred = scaler.transform(X_test) # feats\n",
    "Y_true = Y_test.values.ravel()\n",
    "\n",
    "# predict\n",
    "\n",
    "Y_pred_OvO = OvO_clf.predict(X_pred)\n",
    "Y_pred_OvR = OvR_clf.predict(X_pred)\n",
    "Y_logreg = recta_regresion.predict(X_pred)\n"
   ]
  },
  {
   "cell_type": "code",
   "execution_count": 10,
   "metadata": {
    "collapsed": false,
    "pycharm": {
     "name": "#%%\n"
    }
   },
   "outputs": [
    {
     "name": "stdout",
     "output_type": "stream",
     "text": [
      "\n",
      "OvO confusion matrix:\n",
      "\n",
      "[[92  3  3  0]\n",
      " [ 3 89  2  6]\n",
      " [ 7  0 89  0]\n",
      " [ 1  3  0 96]]\n",
      "\n",
      "\n",
      "OvO Hits  = 366\n",
      "OvO Fails = 28\n",
      "\n",
      "OvR confusion matrix:\n",
      "\n",
      "[[93  4  1  0]\n",
      " [ 3 89  2  6]\n",
      " [ 6  0 90  0]\n",
      " [ 1  3  0 96]]\n",
      "\n",
      "\n",
      "OvR Hits  = 368\n",
      "OvR Fails = 26\n",
      "\n",
      "Logreg confusion matrix:\n",
      "\n",
      "[[92  2  2  2]\n",
      " [ 3 91  1  5]\n",
      " [ 6  0 90  0]\n",
      " [ 1  2  0 97]]\n",
      "\n",
      "\n",
      "OvR Hits  = 370\n",
      "OvR Fails = 24\n"
     ]
    }
   ],
   "source": [
    "# Performance metrics\n",
    "\n",
    "conf_mat_OvO = confusion_matrix(Y_true, Y_pred_OvO)\n",
    "hits_OvO = np.trace(conf_mat_OvO)\n",
    "conf_mat_OvR = confusion_matrix(Y_true, Y_pred_OvR)\n",
    "hits_OvR = np.trace(conf_mat_OvR)\n",
    "conf_mat_logreg = confusion_matrix(Y_true, Y_logreg)\n",
    "hits_logreg = np.trace(conf_mat_logreg)\n",
    "\n",
    "\n",
    "# Print out\n",
    "print(\"\\nOvO confusion matrix:\\n\")\n",
    "print(conf_mat_OvO)\n",
    "print(\"\\n\")\n",
    "print( \"OvO Hits  = %d\"%(hits_OvO) )\n",
    "print( \"OvO Fails = %d\"%(Y_true.shape[0]-hits_OvO) )\n",
    "print(\"\\nOvR confusion matrix:\\n\")\n",
    "print(conf_mat_OvR)\n",
    "print( \"\\n\")\n",
    "print( \"OvR Hits  = %d\"%(hits_OvR) )\n",
    "print( \"OvR Fails = %d\"%(Y_true.shape[0]-hits_OvR) )\n",
    "print(\"\\nLogreg confusion matrix:\\n\")\n",
    "print(conf_mat_logreg)\n",
    "print( \"\\n\")\n",
    "print( \"OvR Hits  = %d\"%(hits_logreg) )\n",
    "print( \"OvR Fails = %d\"%(Y_true.shape[0]-hits_logreg) )"
   ]
  },
  {
   "cell_type": "code",
   "execution_count": 11,
   "metadata": {},
   "outputs": [],
   "source": [
    "# Load competition data\n",
    "challenge_data = pd.read_csv('./reto2_X.csv', header=None)\n",
    "challenge_data = challenge_data/255.0\n",
    "# Feature extraction\n",
    "challenge_features = our.feat_extraction(challenge_data)\n",
    "area = feat_mult(challenge_features, 'area', feat1='feat_7', feat2='feat_8')\n",
    "challenge_features = pd.concat([challenge_features, area],axis=1)\n",
    "mult_25 = feat_mult(challenge_features, 'mult_25', feat1='feat_2', feat2='feat_5')\n",
    "challenge_features = pd.concat([challenge_features, mult_25],axis=1)\n",
    "div_24 = feat_div(challenge_features, 'div_24', feat1='feat_2', feat2='feat_4')\n",
    "challenge_features = pd.concat([challenge_features, div_24],axis=1)\n",
    "challenge_features = scaler.transform(challenge_features) # feats\n",
    "# Inference\n",
    "Y_chal_OvO = OvO_clf.predict(challenge_features)\n",
    "Y_chal_OvR = OvR_clf.predict(challenge_features)\n",
    "Y_chal_logreg = recta_regresion.predict(challenge_features)"
   ]
  },
  {
   "cell_type": "code",
   "execution_count": 12,
   "metadata": {},
   "outputs": [],
   "source": [
    "#np.savetxt('Reto2_OvO_Ypred.csv', Y_chal_OvO, fmt='%i', delimiter=',')\n",
    "np.savetxt('Reto2_Ypred.csv', Y_chal_logreg, fmt='%i', delimiter=',')"
   ]
  },
  {
   "cell_type": "code",
   "execution_count": 13,
   "metadata": {},
   "outputs": [
    {
     "data": {
      "text/plain": [
       "<matplotlib.image.AxesImage at 0x7f3a4e23ffd0>"
      ]
     },
     "execution_count": 13,
     "metadata": {},
     "output_type": "execute_result"
    },
    {
     "data": {
      "image/png": "[encoded data removed]",
      "text/plain": [
       "<Figure size 432x288 with 8 Axes>"
      ]
     },
     "metadata": {
      "needs_background": "light"
     },
     "output_type": "display_data"
    }
   ],
   "source": [
    "# Challenge images representation\n",
    "from matplotlib import pyplot as plt\n",
    "from numpy.random import default_rng\n",
    "numb_img = 8\n",
    "rng = default_rng()\n",
    "numbers = rng.choice(4000, size=numb_img, replace=False)\n",
    "\n",
    "chall_input = pd.read_csv('./reto2_X.csv', header=None)\n",
    "chall_input = chall_input / 255.0\n",
    "chall_input = chall_input.values.reshape([chall_input.shape[0],28,28])\n",
    "\n",
    "chall_results = pd.read_csv('./Reto2_Ypred.csv', header=None)\n",
    "chall_results = chall_results.values\n",
    "\n",
    "images = np.zeros((numb_img,28,28))\n",
    "img_labels = np.zeros((numb_img,))\n",
    "for i in range(numb_img):\n",
    "    images[i] = chall_input[numbers[i],:,:]\n",
    "    img_labels[i] = chall_results[numbers[i]]\n",
    "\n",
    "\n",
    "f, axarr = plt.subplots(2,4)\n",
    "x, y = 0, 0\n",
    "for i in range(images.shape[0]):\n",
    "\n",
    "    img_y = img_labels[i]\n",
    "    axarr[x,y].imshow(images[i])\n",
    "    axarr[x,y].axis('off')\n",
    "    axarr[x,y].title.set_text(str(int(img_y)))\n",
    "    y = y + 1\n",
    "    if y == axarr.shape[1]:\n",
    "        y = 0\n",
    "        x = x + 1\n",
    "        \n",
    "plt.imshow(images[0])"
   ]
  }
 ],
 "metadata": {
  "interpreter": {
   "hash": "31f2aee4e71d21fbe5cf8b01ff0e069b9275f58929596ceb00d14d90e3e16cd6"
  },
  "kernelspec": {
   "display_name": "Python 3.8.10 64-bit",
   "name": "python3"
  },
  "language_info": {
   "codemirror_mode": {
    "name": "ipython",
    "version": 3
   },
   "file_extension": ".py",
   "mimetype": "text/x-python",
   "name": "python",
   "nbconvert_exporter": "python",
   "pygments_lexer": "ipython3",
   "version": "3.8.10"
  }
 },
 "nbformat": 4,
 "nbformat_minor": 0
}

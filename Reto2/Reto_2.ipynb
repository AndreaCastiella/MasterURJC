{
 "cells": [
  {
   "cell_type": "markdown",
   "metadata": {
    "collapsed": true,
    "pycharm": {
     "name": "#%% md\n"
    }
   },
   "source": [
    "# Reto 2\n",
    "\n",
    "## Miguel Ortiz y Andrea Castiella\n"
   ]
  },
  {
   "cell_type": "code",
   "execution_count": 47,
   "metadata": {
    "pycharm": {
     "name": "#%%\n"
    }
   },
   "outputs": [],
   "source": [
    "import numpy  as np\n",
    "import pandas as pd\n",
    "import OurUtils as our\n",
    "from sklearn.model_selection import StratifiedShuffleSplit\n",
    "from sklearn.preprocessing import MinMaxScaler\n",
    "from sklearn.metrics import confusion_matrix, precision_recall_fscore_support\n",
    "from sklearn.preprocessing import PolynomialFeatures"
   ]
  },
  {
   "cell_type": "code",
   "execution_count": 48,
   "metadata": {
    "pycharm": {
     "name": "#%%\n"
    }
   },
   "outputs": [],
   "source": [
    "FullSet_0 = pd.read_csv('./Reto2-Datasets/1000_cero.csv', header=None)\n",
    "FullSet_3 = pd.read_csv('./Reto2-Datasets/1000_tres.csv', header=None)\n",
    "FullSet_6 = pd.read_csv('./Reto2-Datasets/1000_seis.csv', header=None)\n",
    "FullSet_9 = pd.read_csv('./Reto2-Datasets/1000_nueve.csv', header=None)\n",
    "\n",
    "\n",
    "# Scale image to range [0,1]\n",
    "FullSet_0 = FullSet_0 / 255.0\n",
    "FullSet_3 = FullSet_3 / 255.0\n",
    "FullSet_6 = FullSet_6 / 255.0\n",
    "FullSet_9 = FullSet_9 / 255.0"
   ]
  },
  {
   "cell_type": "markdown",
   "metadata": {},
   "source": [
    "## Feature Engineering\n",
    "- Feature multiplication\n",
    "- Feature division"
   ]
  },
  {
   "cell_type": "code",
   "execution_count": 49,
   "metadata": {
    "pycharm": {
     "name": "#%%\n"
    }
   },
   "outputs": [],
   "source": [
    "# Multiplies the value of two given characteristics\n",
    "def feat_mult(features, feat_name='', feat1 = 'feat_2', feat2 = 'feat-5'):\n",
    "    mult = features[feat1] * features[feat2]\n",
    "    return pd.DataFrame({feat_name:mult})\n",
    "\n",
    "# Divides the value of two given characteristics\n",
    "def feat_div(features, feat_name='', feat1 = 'feat_2', feat2 = 'feat-4'):\n",
    "    div = features[feat1] / (features[feat2] + 0.00001)\n",
    "    return pd.DataFrame({feat_name:div})\n"
   ]
  },
  {
   "cell_type": "markdown",
   "metadata": {},
   "source": [
    "## Feature extraction\n",
    "Label for number 0: 0\n",
    "Label for number 3: 3\n",
    "Label for number 6: 6\n",
    "Label for number 9: 9\n"
   ]
  },
  {
   "cell_type": "markdown",
   "metadata": {},
   "source": [
    "## Features\n",
    "\n",
    "To select the features for this exercise, we take into consideration the geometric characteristics of each number.\n",
    "First, the image was divided into 4 parts(upper, right, left, lower) and then we calculate the area/sum of the pixels in these parts. Then, we try to granulate more the zones that we selected before, and calculate the sum/area of a quarter of the image.\n",
    "\n",
    "- feat_1: it represents the percentage of pixels superior to a certain threshold in the **left** side of the image. \n",
    "- feat_2: it represents the percentage of pixels superior to a certain threshold in the **lower** side of the image.\n",
    "- feat_3: it represents the percentage of pixels superior to a certain threshold in the **right** side of the image.\n",
    "- feat_4: it represents the percentage of pixels superior to a certain threshold in the **upper** side of the image.\n",
    "- feat_5: it represents the percentage of pixels superior to a certain threshold in the **lower-right** side of the image.\n",
    "- feat_6: Max value of the column sum of the entire image.\n",
    "- feat_7: **width distance** of the number in the lower side of the image.\n",
    "- feat_8: **height distance** of the number in the lower side of the image.\n",
    "- feat_9: Ratio between the maximum width in the superior and lower part of the image.\n",
    "- feat_10: it represents the division between the **upper and lower triangular matrix** of the image. It takes into consideration the percentage of pixels superior to a certain threshold.\n",
    "- feat_11: Similar to feature 10 but making the division with the **squared values** of the upper and lower matrix."
   ]
  },
  {
   "cell_type": "code",
   "execution_count": 50,
   "metadata": {
    "pycharm": {
     "name": "#%%\n"
    }
   },
   "outputs": [],
   "source": [
    "from sklearn.preprocessing import KernelCenterer\n",
    "from sklearn.metrics.pairwise import pairwise_kernels\n",
    "from sklearn.preprocessing import QuantileTransformer\n",
    "\n",
    "FullSet = our.join_features_labels(FullSet_0, FullSet_3, FullSet_6, FullSet_9)\n",
    "seed = 1234\n",
    "theta = 0.5\n",
    "X_full = our.feat_extraction( FullSet.drop('label', axis=1))\n",
    "area = feat_mult(X_full, 'area', feat1='feat_7', feat2='feat_8')\n",
    "X_full = pd.concat([X_full, area],axis=1)\n",
    "mult_25 = feat_mult(X_full, 'mult_25', feat1='feat_2', feat2='feat_5')\n",
    "X_full = pd.concat([X_full, mult_25],axis=1)\n",
    "mult_13 = feat_mult(X_full, 'mult_13', feat1='feat_1', feat2='feat_3')\n",
    "X_full = pd.concat([X_full, mult_13],axis=1)\n",
    "mult_24 = feat_mult(X_full, 'mult_24', feat1='feat_2', feat2='feat_4')\n",
    "X_full = pd.concat([X_full, mult_24],axis=1)\n",
    "mult_13_24 = feat_mult(X_full, 'mult_13_24', feat1='mult_13', feat2='mult_24')\n",
    "X_full = pd.concat([X_full, mult_13_24],axis=1)\n",
    "\n",
    "div_24 = feat_div(X_full, 'div_24', feat1='feat_2', feat2='feat_4')\n",
    "X_full = pd.concat([X_full, div_24],axis=1)\n",
    "div_13 = feat_div(X_full, 'div_13', feat1='feat_1', feat2='feat_3')\n",
    "X_full = pd.concat([X_full, div_13],axis=1)\n",
    "div_13_24 = feat_div(X_full, 'div_13_24', feat1='div_13', feat2='div_24')\n",
    "X_full = pd.concat([X_full, div_13_24],axis=1)\n",
    "\n",
    "div_24_2 = feat_div(X_full, 'div_24_2', feat1='div_24', feat2='div_24')\n",
    "X_full = pd.concat([X_full, div_24_2],axis=1)\n",
    "mult_24_2 = feat_mult(X_full, 'mult_24_2', feat1='div_24', feat2='div_24')\n",
    "X_full = pd.concat([X_full, mult_24_2],axis=1)\n",
    "\n",
    "feat_10_11 = feat_div(X_full, 'feat_10_11', feat1='feat_10', feat2='feat_11')\n",
    "X_full = pd.concat([X_full, feat_10_11], axis=1)\n",
    "\n",
    "col_names = list(X_full.columns)\n",
    "qt = QuantileTransformer(n_quantiles=10, random_state=0)\n",
    "X_full = qt.fit_transform(X_full)\n",
    "X_full = pd.DataFrame(X_full,columns = col_names)\n",
    "\n",
    "Y_full = FullSet[['label']]\n"
   ]
  },
  {
   "cell_type": "markdown",
   "metadata": {},
   "source": [
    "## Split dataset\n",
    "Train split: 1600 samples (80%)\n",
    "\n",
    "Validation split: 400 samples (20%)"
   ]
  },
  {
   "cell_type": "code",
   "execution_count": 51,
   "metadata": {
    "pycharm": {
     "name": "#%%\n"
    }
   },
   "outputs": [],
   "source": [
    "valid_size = 0.1\n",
    "splitter = StratifiedShuffleSplit(n_splits=1, test_size=valid_size, random_state=seed)\n",
    "split_ix = splitter.split(X_full,Y_full)\n",
    "for train_ix, test_ix in split_ix:\n",
    "    X_train = X_full.loc[train_ix].reset_index(drop=True)\n",
    "    Y_train = Y_full.loc[train_ix].reset_index(drop=True)\n",
    "    X_test  = X_full.loc[test_ix].reset_index(drop=True)\n",
    "    Y_test  = Y_full.loc[test_ix].reset_index(drop=True)"
   ]
  },
  {
   "cell_type": "code",
   "execution_count": 52,
   "metadata": {
    "pycharm": {
     "name": "#%%\n"
    }
   },
   "outputs": [],
   "source": [
    "# Selected features after analyzing different combinations\n",
    "feats = ['div_24', 'feat_11']\n",
    "scaler = MinMaxScaler() \n",
    "X = scaler.fit_transform(X_train[feats]) # feats\n",
    "Y = Y_train.values.ravel() # Returns data as numpy array\n"
   ]
  },
  {
   "cell_type": "code",
   "execution_count": 53,
   "metadata": {},
   "outputs": [],
   "source": [
    "scaler = MinMaxScaler()\n",
    "X = scaler.fit_transform(X_train[feats]) # feats\n",
    "Y = Y_train.values.ravel() # Returns data as numpy array\n"
   ]
  },
  {
   "cell_type": "code",
   "execution_count": 54,
   "metadata": {
    "pycharm": {
     "name": "#%%\n"
    }
   },
   "outputs": [
    {
     "name": "stdout",
     "output_type": "stream",
     "text": [
      "OvO produces 6 classifiers\n",
      "OvR produces 4 classifiers\n"
     ]
    }
   ],
   "source": [
    "from sklearn.multiclass import OneVsOneClassifier\n",
    "from sklearn.multiclass import OneVsRestClassifier\n",
    "\n",
    "from sklearn.svm import SVC, LinearSVC\n",
    "from sklearn.linear_model import Perceptron, SGDClassifier\n",
    "\n",
    "# base_clf = SVC(kernel='rbf', degree=2, gamma=1, random_state = seed) #<- it can be any other one\n",
    "# base_clf = SVC(kernel='poly', degree=1, gamma=1, random_state = seed) #<- it can be any other one\n",
    "# base_clf = LinearSVC(penalty='l2', loss='squared_hinge', random_state=seed, dual=True, C=1, tol=0.0001, multi_class='ovr')\n",
    "base_clf = SGDClassifier(loss='squared_hinge', penalty='l2', alpha=0.0001, l1_ratio=0.15,\n",
    "                         fit_intercept=True, tol=0.001, shuffle=True, epsilon=0.1, random_state=seed, \n",
    "                         learning_rate='optimal', max_iter=100000, n_jobs=8) \n",
    "\n",
    "# Train OvO - SVM\n",
    "OvO_clf = OneVsOneClassifier(base_clf)\n",
    "OvO_clf.fit(X,Y)\n",
    "\n",
    "# Train OvR - SVM\n",
    "OvR_clf = OneVsRestClassifier(base_clf)\n",
    "OvR_clf.fit(X,Y)\n",
    "\n",
    "# Check\n",
    "strlog = \"OvO produces %d classifiers\" %(len(OvO_clf.estimators_))\n",
    "print(strlog)\n",
    "strlog = \"OvR produces %d classifiers\" %(len(OvR_clf.estimators_))\n",
    "print(strlog)\n"
   ]
  },
  {
   "cell_type": "code",
   "execution_count": 55,
   "metadata": {},
   "outputs": [
    {
     "data": {
      "text/plain": "LogisticRegression(max_iter=5000, tol=1e-05, warm_start=True)"
     },
     "execution_count": 55,
     "metadata": {},
     "output_type": "execute_result"
    }
   ],
   "source": [
    "from sklearn.linear_model import LogisticRegression\n",
    "recta_regresion = LogisticRegression(penalty='l2', tol=1e-5, solver='lbfgs', max_iter=5000, warm_start=True) \n",
    "recta_regresion.fit(X,Y)"
   ]
  },
  {
   "cell_type": "code",
   "execution_count": 56,
   "metadata": {},
   "outputs": [
    {
     "name": "stdout",
     "output_type": "stream",
     "text": [
      "0.7477426636568849\n",
      "[6. 9. 3. ... 9. 6. 3.]\n"
     ]
    }
   ],
   "source": [
    "perc = Perceptron(penalty='l2', alpha=0.0001, max_iter=10000, tol=0.00001, shuffle=True, n_jobs=8, early_stopping=True, random_state=seed)\n",
    "perc = OneVsOneClassifier(perc)\n",
    "perc.fit(X,Y)\n",
    "scr = perc.score(X,Y)\n",
    "p = perc.predict(X)\n",
    "print(scr)\n",
    "print(p)"
   ]
  },
  {
   "cell_type": "code",
   "execution_count": 57,
   "metadata": {
    "pycharm": {
     "name": "#%%\n"
    }
   },
   "outputs": [],
   "source": [
    "# Feature engineering, selection and rescaling to [0,1]\n",
    "X_pred = scaler.transform(X_test[feats]) # feats\n",
    "Y_true = Y_test.values.ravel()\n",
    "\n",
    "# predict\n",
    "\n",
    "Y_pred_OvO = OvO_clf.predict(X_pred)\n",
    "Y_pred_OvR = OvR_clf.predict(X_pred)\n",
    "Y_logreg = recta_regresion.predict(X_pred)\n",
    "Y_perc = perc.predict(X_pred)\n",
    "\n",
    "\n"
   ]
  },
  {
   "cell_type": "code",
   "execution_count": 58,
   "metadata": {
    "pycharm": {
     "name": "#%%\n"
    }
   },
   "outputs": [
    {
     "name": "stdout",
     "output_type": "stream",
     "text": [
      "\n",
      "OvO confusion matrix:\n",
      "\n",
      "[[79 13  4  2]\n",
      " [ 7 86  2  5]\n",
      " [ 7  1 88  0]\n",
      " [ 1 13  0 86]]\n",
      "\n",
      "\n",
      "OvO Hits  = 339\n",
      "OvO Fails = 55\n",
      "\n",
      "OvR confusion matrix:\n",
      "\n",
      "[[78 14  4  2]\n",
      " [ 7 86  2  5]\n",
      " [ 6  2 88  0]\n",
      " [ 1  9  0 90]]\n",
      "\n",
      "\n",
      "OvR Hits  = 342\n",
      "OvR Fails = 52\n",
      "\n",
      "Logreg confusion matrix:\n",
      "\n",
      "[[86  8  3  1]\n",
      " [ 6 85  3  6]\n",
      " [ 7  0 89  0]\n",
      " [ 1  7  0 92]]\n",
      "\n",
      "\n",
      "nLogreg Hits  = 352\n",
      "nLogreg Fails = 42\n",
      "\n",
      "Perc confusion matrix:\n",
      "\n",
      "[[43 25 28  2]\n",
      " [ 1 77 10 12]\n",
      " [ 2  0 94  0]\n",
      " [ 0  4  0 96]]\n",
      "\n",
      "\n",
      "Perc Hits  = 310\n",
      "Perc Fails = 84\n"
     ]
    }
   ],
   "source": [
    "# Performance metrics\n",
    "\n",
    "conf_mat_OvO = confusion_matrix(Y_true, Y_pred_OvO)\n",
    "hits_OvO = np.trace(conf_mat_OvO)\n",
    "conf_mat_OvR = confusion_matrix(Y_true, Y_pred_OvR)\n",
    "hits_OvR = np.trace(conf_mat_OvR)\n",
    "conf_mat_logreg = confusion_matrix(Y_true, Y_logreg)\n",
    "hits_logreg = np.trace(conf_mat_logreg)\n",
    "conf_mat_perc = confusion_matrix(Y_true, Y_perc)\n",
    "hits_perc = np.trace(conf_mat_perc)\n",
    "\n",
    "\n",
    "# Print out\n",
    "print(\"\\nOvO confusion matrix:\\n\")\n",
    "print(conf_mat_OvO)\n",
    "print(\"\\n\")\n",
    "print( \"OvO Hits  = %d\"%(hits_OvO))\n",
    "print( \"OvO Fails = %d\"%(Y_true.shape[0]-hits_OvO))\n",
    "print(\"\\nOvR confusion matrix:\\n\")\n",
    "print(conf_mat_OvR)\n",
    "print( \"\\n\")\n",
    "print( \"OvR Hits  = %d\"%(hits_OvR))\n",
    "print( \"OvR Fails = %d\"%(Y_true.shape[0]-hits_OvR))\n",
    "print(\"\\nLogreg confusion matrix:\\n\")\n",
    "print(conf_mat_logreg)\n",
    "print( \"\\n\")\n",
    "print( \"nLogreg Hits  = %d\"%(hits_logreg))\n",
    "print( \"nLogreg Fails = %d\"%(Y_true.shape[0]-hits_logreg))\n",
    "print(\"\\nPerc confusion matrix:\\n\")\n",
    "print(conf_mat_perc)\n",
    "print( \"\\n\")\n",
    "print( \"Perc Hits  = %d\"%(hits_perc))\n",
    "print( \"Perc Fails = %d\"%(Y_true.shape[0]-hits_perc))"
   ]
  },
  {
   "cell_type": "markdown",
   "metadata": {},
   "source": [
    "## Competition data\n",
    "Using the transform method we can use the same mean and variance as it is calculated\n",
    "from our training data to transform our test data (using fit_transform). Thus, the\n",
    "parameters learned by our model using the training data will help us to transform our test data.\n",
    "Transform features using quantiles information.\n",
    "Using the Quantile Transformer the features are transformed to follow a uniform or a normal distribution. Therefore, for a given feature, this transformation tends to spread out the most frequent values. It also reduces the impact of (marginal) outliers: this is therefore a robust preprocessing scheme."
   ]
  },
  {
   "cell_type": "code",
   "execution_count": 59,
   "metadata": {},
   "outputs": [],
   "source": [
    "# Load competition data\n",
    "challenge_data = pd.read_csv('./reto2_X.csv', header=None)\n",
    "challenge_data = challenge_data/255.0\n",
    "# Feature extraction\n",
    "challenge_features = our.feat_extraction(challenge_data)\n",
    "area = feat_mult(challenge_features, 'area', feat1='feat_7', feat2='feat_8')\n",
    "challenge_features = pd.concat([challenge_features, area],axis=1)\n",
    "mult_25 = feat_mult(challenge_features, 'mult_25', feat1='feat_2', feat2='feat_5')\n",
    "challenge_features = pd.concat([challenge_features, mult_25],axis=1)\n",
    "mult_24 = feat_mult(challenge_features, 'mult_24', feat1='feat_2', feat2='feat_4')\n",
    "challenge_features = pd.concat([challenge_features, mult_24],axis=1)\n",
    "mult_13 = feat_mult(challenge_features, 'mult_13', feat1='feat_1', feat2='feat_3')\n",
    "challenge_features = pd.concat([challenge_features, mult_13],axis=1)\n",
    "mult_13_24 = feat_mult(challenge_features, 'mult_13_24', feat1='mult_13', feat2='mult_24')\n",
    "challenge_features = pd.concat([challenge_features, mult_13_24],axis=1)\n",
    "\n",
    "div_24 = feat_div(challenge_features, 'div_24', feat1='feat_2', feat2='feat_4')\n",
    "challenge_features = pd.concat([challenge_features, div_24],axis=1)\n",
    "div_13 = feat_div(challenge_features, 'div_13', feat1='feat_1', feat2='feat_3')\n",
    "challenge_features = pd.concat([challenge_features, div_13],axis=1)\n",
    "div_13_24 = feat_div(challenge_features, 'div_13_24', feat1='div_13', feat2='div_24')\n",
    "challenge_features = pd.concat([challenge_features, div_13_24],axis=1)\n",
    "div_24_2 = feat_div(challenge_features, 'div_24_2', feat1='div_24', feat2='div_24')\n",
    "challenge_features = pd.concat([challenge_features, div_24_2],axis=1)\n",
    "\n",
    "mult_24_2 = feat_mult(challenge_features, 'mult_24_2', feat1='div_24', feat2='div_24')\n",
    "challenge_features = pd.concat([challenge_features, mult_24_2],axis=1)\n",
    "\n",
    "feat_10_11 = feat_div(challenge_features, 'feat_10_11', feat1='feat_10', feat2='feat_11')\n",
    "challenge_features = pd.concat([challenge_features, feat_10_11], axis=1)\n",
    "\n",
    "challenge_features = qt.fit_transform(challenge_features)\n",
    "challenge_features = pd.DataFrame(challenge_features,columns = col_names)\n",
    "\n",
    "challenge_features = scaler.transform(challenge_features[feats]) # feats\n",
    "# Inference\n",
    "Y_chal_OvO = OvO_clf.predict(challenge_features)\n",
    "Y_chal_OvR = OvR_clf.predict(challenge_features)\n",
    "Y_chal_logreg = recta_regresion.predict(challenge_features)\n",
    "Y_chal_perc = perc.predict(challenge_features)"
   ]
  },
  {
   "cell_type": "markdown",
   "metadata": {},
   "source": [
    "## Save results"
   ]
  },
  {
   "cell_type": "code",
   "execution_count": 60,
   "metadata": {},
   "outputs": [],
   "source": [
    "#np.savetxt('Reto2_OvO_Ypred.csv', Y_chal_OvO, fmt='%i', delimiter=',')\n",
    "np.savetxt('Reto2_Ypred.csv', Y_chal_logreg, fmt='%i', delimiter=',')"
   ]
  },
  {
   "cell_type": "markdown",
   "metadata": {},
   "source": [
    "## Image Visualizer"
   ]
  },
  {
   "cell_type": "code",
   "metadata": {
    "pycharm": {
     "name": "#%%\n"
    }
   },
   "source": [
    "# Challenge images representation\n",
    "from matplotlib import pyplot as plt\n",
    "from numpy.random import default_rng\n",
    "numb_img = 8\n",
    "rng = default_rng()\n",
    "numbers = rng.choice(4000, size=numb_img, replace=False)\n",
    "\n",
    "chall_input = pd.read_csv('./reto2_X.csv', header=None)\n",
    "chall_input = chall_input / 255.0\n",
    "chall_input = chall_input.values.reshape([chall_input.shape[0],28,28])\n",
    "\n",
    "chall_results = pd.read_csv('./Reto2_Ypred.csv', header=None)\n",
    "chall_results = chall_results.values\n",
    "\n",
    "images = np.zeros((numb_img,28,28))\n",
    "img_labels = np.zeros((numb_img,))\n",
    "for i in range(numb_img):\n",
    "    images[i] = chall_input[numbers[i],:,:]\n",
    "    img_labels[i] = chall_results[numbers[i]]\n",
    "\n",
    "f, axarr = plt.subplots(2,4)\n",
    "x, y = 0, 0\n",
    "for i in range(images.shape[0]):\n",
    "\n",
    "    img_y = img_labels[i]\n",
    "    axarr[x,y].imshow(images[i])\n",
    "    axarr[x,y].axis('off')\n",
    "    axarr[x,y].title.set_text(str(int(img_y)))\n",
    "    y = y + 1\n",
    "    if y == axarr.shape[1]:\n",
    "        y = 0\n",
    "        x = x + 1\n",
    "        \n",
    "plt.imshow(images[0])"
   ],
   "execution_count": 61,
   "outputs": [
    {
     "data": {
      "text/plain": "<matplotlib.image.AxesImage at 0x7f95d4d75520>"
     },
     "execution_count": 61,
     "metadata": {},
     "output_type": "execute_result"
    },
    {
     "data": {
      "text/plain": "<Figure size 432x288 with 8 Axes>",
      "image/png": "[encoded data removed]"
     },
     "metadata": {
      "needs_background": "light"
     },
     "output_type": "display_data"
    }
   ]
  },
  {
   "cell_type": "code",
   "execution_count": 62,
   "metadata": {},
   "outputs": [
    {
     "name": "stdout",
     "output_type": "stream",
     "text": [
      "[[86  8  3  1]\n",
      " [ 6 85  3  6]\n",
      " [ 7  0 89  0]\n",
      " [ 1  7  0 92]]\n"
     ]
    },
    {
     "data": {
      "text/plain": "<matplotlib.image.AxesImage at 0x7f95d4b0e670>"
     },
     "execution_count": 62,
     "metadata": {},
     "output_type": "execute_result"
    },
    {
     "data": {
      "text/plain": "<Figure size 1800x1800 with 1 Axes>",
      "image/png": "[encoded data removed]"
     },
     "metadata": {
      "needs_background": "light"
     },
     "output_type": "display_data"
    }
   ],
   "source": [
    "print(conf_mat_logreg)\n",
    "plt.figure(figsize=(25,25))\n",
    "plt.imshow(conf_mat_logreg, aspect='auto')"
   ]
  }
 ],
 "metadata": {
  "interpreter": {
   "hash": "31f2aee4e71d21fbe5cf8b01ff0e069b9275f58929596ceb00d14d90e3e16cd6"
  },
  "kernelspec": {
   "display_name": "Python 3 (ipykernel)",
   "language": "python",
   "name": "python3"
  },
  "language_info": {
   "codemirror_mode": {
    "name": "ipython",
    "version": 3
   },
   "file_extension": ".py",
   "mimetype": "text/x-python",
   "name": "python",
   "nbconvert_exporter": "python",
   "pygments_lexer": "ipython3",
   "version": "3.8.10"
  }
 },
 "nbformat": 4,
 "nbformat_minor": 1
}
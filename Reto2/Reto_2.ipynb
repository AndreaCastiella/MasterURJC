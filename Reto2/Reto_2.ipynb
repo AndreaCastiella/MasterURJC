{
 "cells": [
  {
   "cell_type": "markdown",
   "metadata": {
    "collapsed": true,
    "pycharm": {
     "name": "#%% md\n"
    }
   },
   "source": [
    "# Reto 2\n",
    "\n",
    "## Miguel Ortiz y Andrea Castiella\n"
   ]
  },
  {
   "cell_type": "code",
   "execution_count": 7,
   "outputs": [],
   "source": [
    "import numpy  as np\n",
    "import pandas as pd\n",
    "import OurUtils as our\n",
    "from sklearn.model_selection import StratifiedShuffleSplit\n",
    "from sklearn.preprocessing import MinMaxScaler\n",
    "from sklearn.metrics import confusion_matrix, precision_recall_fscore_support"
   ],
   "metadata": {
    "collapsed": false,
    "pycharm": {
     "name": "#%%\n"
    }
   }
  },
  {
   "cell_type": "code",
   "execution_count": 8,
   "outputs": [],
   "source": [
    "FullSet_0 = pd.read_csv('./Reto2-Datasets/1000_cero.csv', header=None)\n",
    "FullSet_3 = pd.read_csv('./Reto2-Datasets/1000_tres.csv', header=None)\n",
    "FullSet_6 = pd.read_csv('./Reto2-Datasets/1000_seis.csv', header=None)\n",
    "FullSet_9 = pd.read_csv('./Reto2-Datasets/1000_nueve.csv', header=None)\n",
    "\n",
    "\n",
    "# Scale image to range [0,1]\n",
    "FullSet_0 = FullSet_0 / 255.0\n",
    "FullSet_3 = FullSet_3 / 255.0\n",
    "FullSet_6 = FullSet_6 / 255.0\n",
    "FullSet_9 = FullSet_9 / 255.0"
   ],
   "metadata": {
    "collapsed": false,
    "pycharm": {
     "name": "#%%\n"
    }
   }
  },
  {
   "cell_type": "markdown",
   "source": [
    "## Feature Engineering\n",
    "- Feature multiplication\n",
    "- Feature division"
   ],
   "metadata": {
    "collapsed": false
   }
  },
  {
   "cell_type": "code",
   "execution_count": 9,
   "outputs": [],
   "source": [
    "# Multiplies the value of two given characteristics\n",
    "def feat_mult(features, feat_name='', feat1 = 'feat_2', feat2 = 'feat-5'):\n",
    "    mult = features[feat1] * features[feat2]\n",
    "    return pd.DataFrame({feat_name:mult})\n",
    "\n",
    "# Divides the value of two given characteristics\n",
    "def feat_div(features, feat_name='', feat1 = 'feat_2', feat2 = 'feat-4'):\n",
    "    div = features[feat1] / (features[feat2] + 0.00001)\n",
    "    return pd.DataFrame({feat_name:div})\n"
   ],
   "metadata": {
    "collapsed": false,
    "pycharm": {
     "name": "#%%\n"
    }
   }
  },
  {
   "cell_type": "markdown",
   "source": [
    "## Feature extraction\n",
    "Label for number 3: 0\n",
    "\n",
    "Label for number 7: 1\n"
   ],
   "metadata": {
    "collapsed": false
   }
  },
  {
   "cell_type": "code",
   "execution_count": 11,
   "outputs": [
    {
     "ename": "TypeError",
     "evalue": "join_features_labels() takes 2 positional arguments but 4 were given",
     "output_type": "error",
     "traceback": [
      "\u001B[0;31m---------------------------------------------------------------------------\u001B[0m",
      "\u001B[0;31mTypeError\u001B[0m                                 Traceback (most recent call last)",
      "\u001B[0;32m/tmp/ipykernel_7023/1090850363.py\u001B[0m in \u001B[0;36m<module>\u001B[0;34m\u001B[0m\n\u001B[0;32m----> 1\u001B[0;31m \u001B[0mFullSet\u001B[0m \u001B[0;34m=\u001B[0m \u001B[0mour\u001B[0m\u001B[0;34m.\u001B[0m\u001B[0mjoin_features_labels\u001B[0m\u001B[0;34m(\u001B[0m\u001B[0mFullSet_0\u001B[0m\u001B[0;34m,\u001B[0m \u001B[0mFullSet_3\u001B[0m\u001B[0;34m,\u001B[0m \u001B[0mFullSet_6\u001B[0m\u001B[0;34m,\u001B[0m \u001B[0mFullSet_9\u001B[0m\u001B[0;34m)\u001B[0m\u001B[0;34m\u001B[0m\u001B[0;34m\u001B[0m\u001B[0m\n\u001B[0m\u001B[1;32m      2\u001B[0m \u001B[0mseed\u001B[0m \u001B[0;34m=\u001B[0m \u001B[0;36m1234\u001B[0m\u001B[0;34m\u001B[0m\u001B[0;34m\u001B[0m\u001B[0m\n\u001B[1;32m      3\u001B[0m \u001B[0mtheta\u001B[0m \u001B[0;34m=\u001B[0m \u001B[0;36m0.5\u001B[0m\u001B[0;34m\u001B[0m\u001B[0;34m\u001B[0m\u001B[0m\n\u001B[1;32m      4\u001B[0m \u001B[0mX_full\u001B[0m \u001B[0;34m=\u001B[0m \u001B[0mour\u001B[0m\u001B[0;34m.\u001B[0m\u001B[0mfeat_extraction\u001B[0m\u001B[0;34m(\u001B[0m \u001B[0mFullSet\u001B[0m\u001B[0;34m.\u001B[0m\u001B[0mdrop\u001B[0m\u001B[0;34m(\u001B[0m\u001B[0;34m'label'\u001B[0m\u001B[0;34m,\u001B[0m \u001B[0maxis\u001B[0m\u001B[0;34m=\u001B[0m\u001B[0;36m1\u001B[0m\u001B[0;34m)\u001B[0m\u001B[0;34m)\u001B[0m\u001B[0;34m\u001B[0m\u001B[0;34m\u001B[0m\u001B[0m\n\u001B[1;32m      5\u001B[0m \u001B[0marea\u001B[0m \u001B[0;34m=\u001B[0m \u001B[0mfeat_mult\u001B[0m\u001B[0;34m(\u001B[0m\u001B[0mX_full\u001B[0m\u001B[0;34m,\u001B[0m \u001B[0;34m'area'\u001B[0m\u001B[0;34m,\u001B[0m \u001B[0mfeat1\u001B[0m\u001B[0;34m=\u001B[0m\u001B[0;34m'feat_7'\u001B[0m\u001B[0;34m,\u001B[0m \u001B[0mfeat2\u001B[0m\u001B[0;34m=\u001B[0m\u001B[0;34m'feat_8'\u001B[0m\u001B[0;34m)\u001B[0m\u001B[0;34m\u001B[0m\u001B[0;34m\u001B[0m\u001B[0m\n",
      "\u001B[0;31mTypeError\u001B[0m: join_features_labels() takes 2 positional arguments but 4 were given"
     ]
    }
   ],
   "source": [
    "FullSet = our.join_features_labels(FullSet_0, FullSet_3, FullSet_6, FullSet_9)\n",
    "seed = 1234\n",
    "theta = 0.5\n",
    "X_full = our.feat_extraction( FullSet.drop('label', axis=1))\n",
    "area = feat_mult(X_full, 'area', feat1='feat_7', feat2='feat_8')\n",
    "X_full = pd.concat([X_full, area],axis=1)\n",
    "mult_25 = feat_mult(X_full, 'mult_25', feat1='feat_2', feat2='feat_5')\n",
    "X_full = pd.concat([X_full, mult_25],axis=1)\n",
    "div_24 = feat_div(X_full, 'div_24', feat1='feat_2', feat2='feat_4')\n",
    "X_full = pd.concat([X_full, div_24],axis=1)\n",
    "#X_full.head()\n",
    "Y_full = FullSet[['label']]\n"
   ],
   "metadata": {
    "collapsed": false,
    "pycharm": {
     "name": "#%%\n"
    }
   }
  },
  {
   "cell_type": "markdown",
   "source": [
    "## Split dataset\n",
    "Train split: 1600 samples (80%)\n",
    "\n",
    "Validation split: 400 samples (20%)"
   ],
   "metadata": {
    "collapsed": false
   }
  },
  {
   "cell_type": "code",
   "execution_count": null,
   "outputs": [],
   "source": [
    "valid_size = 0.2\n",
    "splitter = StratifiedShuffleSplit(n_splits=1, test_size=valid_size, random_state=seed)\n",
    "split_ix = splitter.split(X_full,Y_full)\n",
    "for train_ix, test_ix in split_ix:\n",
    "    X_train = X_full.loc[train_ix].reset_index(drop=True)\n",
    "    Y_train = Y_full.loc[train_ix].reset_index(drop=True)\n",
    "    X_valid  = X_full.loc[test_ix].reset_index(drop=True)\n",
    "    Y_valid  = Y_full.loc[test_ix].reset_index(drop=True)\n"
   ],
   "metadata": {
    "collapsed": false,
    "pycharm": {
     "name": "#%%\n"
    }
   }
  },
  {
   "cell_type": "code",
   "execution_count": null,
   "outputs": [],
   "source": [
    "# Selected features after analyzing different combinations\n",
    "feats = ['feat_9', 'div_24']\n",
    "scaler = MinMaxScaler()\n",
    "X = scaler.fit_transform(X_train[feats])\n",
    "Y = Y_train.values.ravel() # Returns data as numpy array\n"
   ],
   "metadata": {
    "collapsed": false,
    "pycharm": {
     "name": "#%%\n"
    }
   }
  },
  {
   "cell_type": "code",
   "execution_count": null,
   "outputs": [],
   "source": [
    "from sklearn.multiclass import OneVsOneClassifier\n",
    "from sklearn.multiclass import OneVsRestClassifier\n",
    "\n",
    "from sklearn.svm import SVC\n",
    "\n",
    "base_clf = SVC(kernel='rbf', degree=2, gamma=1, random_state = seed) #<- it can be any other one\n",
    "\n",
    "# Train OvO - SVM\n",
    "OvO_clf = OneVsOneClassifier(base_clf)\n",
    "OvO_clf.fit(X,Y)\n",
    "\n",
    "# Train OvR - SVM\n",
    "OvR_clf = OneVsRestClassifier(base_clf)\n",
    "OvR_clf.fit(X,Y)\n",
    "\n",
    "# Check\n",
    "strlog = \"OvO produces %d classifiers\" %(len(OvO_clf.estimators_))\n",
    "print(strlog)\n",
    "strlog = \"OvR produces %d classifiers\" %(len(OvR_clf.estimators_))\n",
    "print(strlog)\n"
   ],
   "metadata": {
    "collapsed": false,
    "pycharm": {
     "name": "#%%\n"
    }
   }
  },
  {
   "cell_type": "code",
   "execution_count": null,
   "outputs": [],
   "source": [
    "# Feature engineering, selection and rescaling to [0,1]\n",
    "X_pred = scaler.transform(X_valid)\n",
    "Y_true = Y_valid.values.ravel()\n",
    "\n",
    "# predict\n",
    "\n",
    "Y_pred_OvO = OvO_clf.predict(X_pred)\n",
    "Y_pred_OvR = OvR_clf.predict(X_pred)\n"
   ],
   "metadata": {
    "collapsed": false,
    "pycharm": {
     "name": "#%%\n"
    }
   }
  },
  {
   "cell_type": "code",
   "execution_count": null,
   "outputs": [],
   "source": [
    "# Performance metrics\n",
    "\n",
    "conf_mat_OvO = confusion_matrix(Y_true, Y_pred_OvO)\n",
    "hits_OvO = np.trace(conf_mat_OvO)\n",
    "conf_mat_OvR = confusion_matrix(Y_true, Y_pred_OvR)\n",
    "hits_OvR = np.trace(conf_mat_OvR)\n",
    "\n",
    "# Print out\n",
    "print(\"\\nOvO confusion matrix:\\n\")\n",
    "print(conf_mat_OvO)\n",
    "print(\"\\n\")\n",
    "print( \"OvO Hits  = %d\"%(hits_OvO) )\n",
    "print( \"OvO Fails = %d\"%(Y_true.shape[0]-hits_OvO) )\n",
    "print(\"\\nOvR confusion matrix:\\n\")\n",
    "print(conf_mat_OvR)\n",
    "print( \"\\n\")\n",
    "print( \"OvR Hits  = %d\"%(hits_OvR) )\n",
    "print( \"OvR Fails = %d\"%(Y_true.shape[0]-hits_OvR) )"
   ],
   "metadata": {
    "collapsed": false,
    "pycharm": {
     "name": "#%%\n"
    }
   }
  }
 ],
 "metadata": {
  "kernelspec": {
   "display_name": "Python 3",
   "language": "python",
   "name": "python3"
  },
  "language_info": {
   "codemirror_mode": {
    "name": "ipython",
    "version": 2
   },
   "file_extension": ".py",
   "mimetype": "text/x-python",
   "name": "python",
   "nbconvert_exporter": "python",
   "pygments_lexer": "ipython2",
   "version": "2.7.6"
  }
 },
 "nbformat": 4,
 "nbformat_minor": 0
}
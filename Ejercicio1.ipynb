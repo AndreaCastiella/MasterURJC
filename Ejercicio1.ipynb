{
 "cells": [
  {
   "cell_type": "markdown",
   "id": "b71321df",
   "metadata": {},
   "source": [
    "# Reto 1\n",
    "\n",
    "## Ingeniería de características\n",
    "\n",
    "#### Miguel Ortiz y Andrea Castiella"
   ]
  },
  {
   "cell_type": "code",
   "execution_count": 2,
   "id": "7d156b86",
   "metadata": {},
   "outputs": [],
   "source": [
    "import numpy  as np\n",
    "import pandas as pd\n",
    "from matplotlib import pyplot as plt"
   ]
  },
  {
   "cell_type": "code",
   "execution_count": 4,
   "id": "b95ce681",
   "metadata": {},
   "outputs": [],
   "source": [
    "FullSet_3 = pd.read_csv('../Reto1-Dataset/1000_tres.csv', header=None)\n",
    "FullSet_7 = pd.read_csv('../Reto1-Dataset/1000_siete.csv', header=None)\n",
    "\n",
    "# Reescalado a [0, 1]\n",
    "FullSet_3 = FullSet_3 / 255.0\n",
    "FullSet_7 = FullSet_7 / 255.0"
   ]
  },
  {
   "cell_type": "markdown",
   "id": "090d1b48",
   "metadata": {},
   "source": [
    "## Función extracción de características"
   ]
  },
  {
   "cell_type": "code",
   "execution_count": 53,
   "id": "88cfa30d",
   "metadata": {},
   "outputs": [],
   "source": [
    "def feat_extraction(data):\n",
    "    num_feat = 4\n",
    "    features = np.zeros([data.shape[0], num_feat])\n",
    "    data = data.values.reshape([data.shape[0],28,28]) # Cada fila es una imagen, reshape a 28x28\n",
    "    \n",
    "    for i in range(data.shape[0]): # Por cada imagen \n",
    "        img = data[i,:,:]\n",
    "        # Característica 1\n",
    "        feat_1  = np.sum(img[:, :int(img.shape[1]/2)]) # Suma de los pixels la mitad izquierda de la imagen\n",
    "        features[i, 0] = feat_1\n",
    "        # Característica 2\n",
    "        feat_2 = np.sum(img[int(img.shape[0]/2):, :]) # Suma de los pixels de la mitad inferior de la imagen\n",
    "        features[i, 1] = feat_2\n",
    "        # Característica 3\n",
    "        feat_3 = np.sum(img[:, int(img.shape[1]/2):]) # Suma de los pixels de la mitad derecha de la imagen\n",
    "        features[i, 2] = feat_3\n",
    "        # Característica 4\n",
    "        feat_4 = np.sum(img[:int(img.shape[0]/2), :]) # Suma de los pixels de la mitad superior de la imagen\n",
    "        features[i, 3] = feat_4\n",
    "        \n",
    "    col_names = ['feat_1','feat_2', 'feat_3', 'feat_4']\n",
    "    return pd.DataFrame(features,columns = col_names) "
   ]
  },
  {
   "cell_type": "code",
   "execution_count": 54,
   "id": "38b835b0",
   "metadata": {},
   "outputs": [],
   "source": [
    "FeatSet_3 = feat_extraction(FullSet_3)\n",
    "FeatSet_7 = feat_extraction(FullSet_7)"
   ]
  },
  {
   "cell_type": "code",
   "execution_count": 55,
   "id": "fc59a9d8",
   "metadata": {},
   "outputs": [
    {
     "data": {
      "text/html": [
       "<div>\n",
       "<style scoped>\n",
       "    .dataframe tbody tr th:only-of-type {\n",
       "        vertical-align: middle;\n",
       "    }\n",
       "\n",
       "    .dataframe tbody tr th {\n",
       "        vertical-align: top;\n",
       "    }\n",
       "\n",
       "    .dataframe thead th {\n",
       "        text-align: right;\n",
       "    }\n",
       "</style>\n",
       "<table border=\"1\" class=\"dataframe\">\n",
       "  <thead>\n",
       "    <tr style=\"text-align: right;\">\n",
       "      <th></th>\n",
       "      <th>feat_1</th>\n",
       "      <th>feat_2</th>\n",
       "      <th>feat_3</th>\n",
       "      <th>feat_4</th>\n",
       "    </tr>\n",
       "  </thead>\n",
       "  <tbody>\n",
       "    <tr>\n",
       "      <th>0</th>\n",
       "      <td>66.839216</td>\n",
       "      <td>70.372549</td>\n",
       "      <td>72.113725</td>\n",
       "      <td>68.580392</td>\n",
       "    </tr>\n",
       "    <tr>\n",
       "      <th>1</th>\n",
       "      <td>45.800000</td>\n",
       "      <td>47.858824</td>\n",
       "      <td>51.960784</td>\n",
       "      <td>49.901961</td>\n",
       "    </tr>\n",
       "    <tr>\n",
       "      <th>2</th>\n",
       "      <td>47.196078</td>\n",
       "      <td>57.521569</td>\n",
       "      <td>55.847059</td>\n",
       "      <td>45.521569</td>\n",
       "    </tr>\n",
       "    <tr>\n",
       "      <th>3</th>\n",
       "      <td>38.454902</td>\n",
       "      <td>39.705882</td>\n",
       "      <td>35.541176</td>\n",
       "      <td>34.290196</td>\n",
       "    </tr>\n",
       "    <tr>\n",
       "      <th>4</th>\n",
       "      <td>66.349020</td>\n",
       "      <td>74.427451</td>\n",
       "      <td>82.505882</td>\n",
       "      <td>74.427451</td>\n",
       "    </tr>\n",
       "  </tbody>\n",
       "</table>\n",
       "</div>"
      ],
      "text/plain": [
       "      feat_1     feat_2     feat_3     feat_4\n",
       "0  66.839216  70.372549  72.113725  68.580392\n",
       "1  45.800000  47.858824  51.960784  49.901961\n",
       "2  47.196078  57.521569  55.847059  45.521569\n",
       "3  38.454902  39.705882  35.541176  34.290196\n",
       "4  66.349020  74.427451  82.505882  74.427451"
      ]
     },
     "execution_count": 55,
     "metadata": {},
     "output_type": "execute_result"
    }
   ],
   "source": [
    "FeatSet_3.head()"
   ]
  },
  {
   "cell_type": "code",
   "execution_count": 56,
   "id": "95d07482",
   "metadata": {},
   "outputs": [
    {
     "data": {
      "text/html": [
       "<div>\n",
       "<style scoped>\n",
       "    .dataframe tbody tr th:only-of-type {\n",
       "        vertical-align: middle;\n",
       "    }\n",
       "\n",
       "    .dataframe tbody tr th {\n",
       "        vertical-align: top;\n",
       "    }\n",
       "\n",
       "    .dataframe thead th {\n",
       "        text-align: right;\n",
       "    }\n",
       "</style>\n",
       "<table border=\"1\" class=\"dataframe\">\n",
       "  <thead>\n",
       "    <tr style=\"text-align: right;\">\n",
       "      <th></th>\n",
       "      <th>feat_1</th>\n",
       "      <th>feat_2</th>\n",
       "      <th>feat_3</th>\n",
       "      <th>feat_4</th>\n",
       "    </tr>\n",
       "  </thead>\n",
       "  <tbody>\n",
       "    <tr>\n",
       "      <th>0</th>\n",
       "      <td>30.623529</td>\n",
       "      <td>33.623529</td>\n",
       "      <td>41.745098</td>\n",
       "      <td>38.745098</td>\n",
       "    </tr>\n",
       "    <tr>\n",
       "      <th>1</th>\n",
       "      <td>34.964706</td>\n",
       "      <td>42.117647</td>\n",
       "      <td>53.929412</td>\n",
       "      <td>46.776471</td>\n",
       "    </tr>\n",
       "    <tr>\n",
       "      <th>2</th>\n",
       "      <td>16.870588</td>\n",
       "      <td>25.447059</td>\n",
       "      <td>42.921569</td>\n",
       "      <td>34.345098</td>\n",
       "    </tr>\n",
       "    <tr>\n",
       "      <th>3</th>\n",
       "      <td>45.329412</td>\n",
       "      <td>50.313725</td>\n",
       "      <td>57.729412</td>\n",
       "      <td>52.745098</td>\n",
       "    </tr>\n",
       "    <tr>\n",
       "      <th>4</th>\n",
       "      <td>31.996078</td>\n",
       "      <td>38.760784</td>\n",
       "      <td>54.541176</td>\n",
       "      <td>47.776471</td>\n",
       "    </tr>\n",
       "  </tbody>\n",
       "</table>\n",
       "</div>"
      ],
      "text/plain": [
       "      feat_1     feat_2     feat_3     feat_4\n",
       "0  30.623529  33.623529  41.745098  38.745098\n",
       "1  34.964706  42.117647  53.929412  46.776471\n",
       "2  16.870588  25.447059  42.921569  34.345098\n",
       "3  45.329412  50.313725  57.729412  52.745098\n",
       "4  31.996078  38.760784  54.541176  47.776471"
      ]
     },
     "execution_count": 56,
     "metadata": {},
     "output_type": "execute_result"
    }
   ],
   "source": [
    "FeatSet_7.head()"
   ]
  },
  {
   "cell_type": "markdown",
   "id": "13c95045",
   "metadata": {},
   "source": [
    "## Función de jitter para una mejor visualización de los parámetros"
   ]
  },
  {
   "cell_type": "code",
   "execution_count": 66,
   "id": "ea8e1529",
   "metadata": {},
   "outputs": [],
   "source": [
    "def jitter(data, sigma=0.3):\n",
    "    random_sign = (-1)**np.random.randint(1,3,*data.shape)\n",
    "    return data + np.random.normal(0,sigma,*data.shape)*random_sign\n",
    "\n"
   ]
  },
  {
   "cell_type": "code",
   "execution_count": null,
   "id": "0dfe64f3",
   "metadata": {},
   "outputs": [],
   "source": [
    "def feat_rescaled(features):\n",
    "    return "
   ]
  },
  {
   "cell_type": "markdown",
   "id": "fd53fd97",
   "metadata": {},
   "source": [
    "## Visualización del resultado"
   ]
  },
  {
   "cell_type": "code",
   "execution_count": 67,
   "id": "b89b5901",
   "metadata": {},
   "outputs": [
    {
     "data": {
      "image/png": "[encoded data removed]",
      "text/plain": [
       "<Figure size 432x288 with 1 Axes>"
      ]
     },
     "metadata": {
      "needs_background": "light"
     },
     "output_type": "display_data"
    }
   ],
   "source": [
    "\n",
    "horizontal = 'feat_2'\n",
    "vertical = 'feat_4'\n",
    "alpha = 0.1 # Transparencia\n",
    "sigma = 0.3 # Jitter\n",
    "plt.plot(jitter(FeatSet_3[horizontal], sigma), jitter(FeatSet_3[vertical], sigma),'yo',alpha=alpha)\n",
    "plt.plot(jitter(FeatSet_7[horizontal], sigma), jitter(FeatSet_7[vertical], sigma),'bx',alpha=alpha)\n",
    "plt.xlabel(horizontal)\n",
    "plt.ylabel(vertical)\n",
    "plt.title('0(yellow) vs.1(blue)')\n",
    "plt.show()"
   ]
  },
  {
   "cell_type": "code",
   "execution_count": null,
   "id": "172cea49",
   "metadata": {},
   "outputs": [],
   "source": []
  }
 ],
 "metadata": {
  "kernelspec": {
   "display_name": "master-env",
   "language": "python",
   "name": "master-env"
  },
  "language_info": {
   "codemirror_mode": {
    "name": "ipython",
    "version": 3
   },
   "file_extension": ".py",
   "mimetype": "text/x-python",
   "name": "python",
   "nbconvert_exporter": "python",
   "pygments_lexer": "ipython3",
   "version": "3.8.10"
  }
 },
 "nbformat": 4,
 "nbformat_minor": 5
}

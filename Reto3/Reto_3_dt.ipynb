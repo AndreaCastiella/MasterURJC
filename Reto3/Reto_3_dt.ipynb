{
 "cells": [
  {
   "cell_type": "markdown",
   "metadata": {
    "collapsed": true,
    "pycharm": {
     "name": "#%% md\n"
    }
   },
   "source": [
    "# Reto 3\n",
    "\n",
    "## Miguel Ortiz y Andrea Castiella\n"
   ]
  },
  {
   "cell_type": "code",
   "execution_count": 10,
   "metadata": {
    "pycharm": {
     "name": "#%%\n"
    }
   },
   "outputs": [],
   "source": [
    "import numpy  as np\n",
    "import pandas as pd\n",
    "import OurUtils as our\n",
    "from sklearn.preprocessing import MinMaxScaler"
   ]
  },
  {
   "cell_type": "code",
   "execution_count": 11,
   "metadata": {
    "pycharm": {
     "name": "#%%\n"
    }
   },
   "outputs": [
    {
     "name": "stdout",
     "output_type": "stream",
     "text": [
      "   altitud  azimut  inclinacion  DH_agua  DV_agua  DH_camino  sombra_9am  \\\n",
      "0     3351     354           19      450       95       1064         185   \n",
      "1     2995      84            7      481       30       5154         231   \n",
      "2     2884      72           25      210      -45        466         239   \n",
      "3     3139      76           11      301       58       1368         234   \n",
      "4     3018     312           17       30       10       1719         172   \n",
      "\n",
      "   sombra_12pm  sombra_3pm  DH_fuego  ...  t31  t32  t33  t34  t35  t36  t37  \\\n",
      "0          203         153       711  ...    0    0    0    0    0    0    0   \n",
      "1          227         129      5488  ...    0    0    0    0    0    0    0   \n",
      "2          183          60      2123  ...    0    0    0    0    0    0    0   \n",
      "3          220         117      3282  ...    0    0    1    0    0    0    0   \n",
      "4          225         193      1961  ...    0    0    0    0    0    0    0   \n",
      "\n",
      "   t38  t39  t40  \n",
      "0    0    1    0  \n",
      "1    0    0    0  \n",
      "2    0    0    0  \n",
      "3    0    0    0  \n",
      "4    0    0    0  \n",
      "\n",
      "[5 rows x 54 columns]\n",
      "   tipo_bosque\n",
      "0            1\n",
      "1            2\n",
      "2            2\n",
      "3            1\n",
      "4            1\n"
     ]
    }
   ],
   "source": [
    "# Read data\n",
    "X_full = pd.read_csv('Reto 3-Dataset/reto3_trainX.csv', header=0, low_memory=False)\n",
    "Y_full = pd.read_csv('Reto 3-Dataset/reto3_trainY.csv', header=0, low_memory=False)\n",
    "\n",
    "print(X_full.head())\n",
    "print(Y_full.head())"
   ]
  },
  {
   "cell_type": "markdown",
   "metadata": {},
   "source": [
    "## Split dataset\n",
    "Train split: 80%\n",
    "\n",
    "Validation split: 20%"
   ]
  },
  {
   "cell_type": "code",
   "execution_count": 12,
   "metadata": {
    "pycharm": {
     "name": "#%%\n"
    }
   },
   "outputs": [
    {
     "name": "stdout",
     "output_type": "stream",
     "text": [
      "(33894, 54)\n"
     ]
    },
    {
     "ename": "ValueError",
     "evalue": "all the input array dimensions for the concatenation axis must match exactly, but along dimension 0, the array at index 0 has size 5721 and the array at index 1 has size 33894",
     "output_type": "error",
     "traceback": [
      "\u001b[0;31m---------------------------------------------------------------------------\u001b[0m",
      "\u001b[0;31mValueError\u001b[0m                                Traceback (most recent call last)",
      "\u001b[0;32m<ipython-input-12-220f4a580967>\u001b[0m in \u001b[0;36m<module>\u001b[0;34m\u001b[0m\n\u001b[1;32m     18\u001b[0m \u001b[0mprint\u001b[0m\u001b[0;34m(\u001b[0m\u001b[0mx_oversampled\u001b[0m\u001b[0;34m.\u001b[0m\u001b[0mshape\u001b[0m\u001b[0;34m)\u001b[0m\u001b[0;34m\u001b[0m\u001b[0;34m\u001b[0m\u001b[0m\n\u001b[1;32m     19\u001b[0m \u001b[0mX_balanced\u001b[0m \u001b[0;34m=\u001b[0m \u001b[0mnp\u001b[0m\u001b[0;34m.\u001b[0m\u001b[0mvstack\u001b[0m\u001b[0;34m(\u001b[0m\u001b[0;34m(\u001b[0m\u001b[0mX_train\u001b[0m\u001b[0;34m[\u001b[0m\u001b[0mY_train\u001b[0m\u001b[0;34m.\u001b[0m\u001b[0mvalues\u001b[0m \u001b[0;34m==\u001b[0m \u001b[0;36m3\u001b[0m\u001b[0;34m]\u001b[0m\u001b[0;34m,\u001b[0m \u001b[0mx_oversampled\u001b[0m\u001b[0;34m)\u001b[0m\u001b[0;34m)\u001b[0m\u001b[0;34m\u001b[0m\u001b[0;34m\u001b[0m\u001b[0m\n\u001b[0;32m---> 20\u001b[0;31m \u001b[0my_balanced\u001b[0m \u001b[0;34m=\u001b[0m \u001b[0mnp\u001b[0m\u001b[0;34m.\u001b[0m\u001b[0mhstack\u001b[0m\u001b[0;34m(\u001b[0m\u001b[0;34m(\u001b[0m\u001b[0mY_train\u001b[0m\u001b[0;34m[\u001b[0m\u001b[0mY_train\u001b[0m\u001b[0;34m.\u001b[0m\u001b[0mvalues\u001b[0m \u001b[0;34m==\u001b[0m \u001b[0;36m3\u001b[0m\u001b[0;34m]\u001b[0m\u001b[0;34m,\u001b[0m \u001b[0my_oversampled\u001b[0m\u001b[0;34m)\u001b[0m\u001b[0;34m)\u001b[0m\u001b[0;34m\u001b[0m\u001b[0;34m\u001b[0m\u001b[0m\n\u001b[0m\u001b[1;32m     21\u001b[0m \u001b[0mprint\u001b[0m\u001b[0;34m(\u001b[0m\u001b[0mX_balanced\u001b[0m\u001b[0;34m.\u001b[0m\u001b[0mshape\u001b[0m\u001b[0;34m)\u001b[0m\u001b[0;34m\u001b[0m\u001b[0;34m\u001b[0m\u001b[0m\n\u001b[1;32m     22\u001b[0m \u001b[0;34m\u001b[0m\u001b[0m\n",
      "\u001b[0;32m<__array_function__ internals>\u001b[0m in \u001b[0;36mhstack\u001b[0;34m(*args, **kwargs)\u001b[0m\n",
      "\u001b[0;32m~/.local/lib/python3.6/site-packages/numpy/core/shape_base.py\u001b[0m in \u001b[0;36mhstack\u001b[0;34m(tup)\u001b[0m\n\u001b[1;32m    344\u001b[0m         \u001b[0;32mreturn\u001b[0m \u001b[0m_nx\u001b[0m\u001b[0;34m.\u001b[0m\u001b[0mconcatenate\u001b[0m\u001b[0;34m(\u001b[0m\u001b[0marrs\u001b[0m\u001b[0;34m,\u001b[0m \u001b[0;36m0\u001b[0m\u001b[0;34m)\u001b[0m\u001b[0;34m\u001b[0m\u001b[0;34m\u001b[0m\u001b[0m\n\u001b[1;32m    345\u001b[0m     \u001b[0;32melse\u001b[0m\u001b[0;34m:\u001b[0m\u001b[0;34m\u001b[0m\u001b[0;34m\u001b[0m\u001b[0m\n\u001b[0;32m--> 346\u001b[0;31m         \u001b[0;32mreturn\u001b[0m \u001b[0m_nx\u001b[0m\u001b[0;34m.\u001b[0m\u001b[0mconcatenate\u001b[0m\u001b[0;34m(\u001b[0m\u001b[0marrs\u001b[0m\u001b[0;34m,\u001b[0m \u001b[0;36m1\u001b[0m\u001b[0;34m)\u001b[0m\u001b[0;34m\u001b[0m\u001b[0;34m\u001b[0m\u001b[0m\n\u001b[0m\u001b[1;32m    347\u001b[0m \u001b[0;34m\u001b[0m\u001b[0m\n\u001b[1;32m    348\u001b[0m \u001b[0;34m\u001b[0m\u001b[0m\n",
      "\u001b[0;32m<__array_function__ internals>\u001b[0m in \u001b[0;36mconcatenate\u001b[0;34m(*args, **kwargs)\u001b[0m\n",
      "\u001b[0;31mValueError\u001b[0m: all the input array dimensions for the concatenation axis must match exactly, but along dimension 0, the array at index 0 has size 5721 and the array at index 1 has size 33894"
     ]
    }
   ],
   "source": [
    "# Split into train and validation\n",
    "valid_size = 0.2\n",
    "seed = 1234\n",
    "X_train, Y_train, X_valid, Y_valid = \\\n",
    "   our.single_stratified_split(X_full, Y_full, test_size=valid_size, random_state=seed)\n",
    "\n",
    "# from imblearn.over_sampling import SMOTE\n",
    "# sm = SMOTE(random_state=seed)\n",
    "\n",
    "# X_train, Y_train = sm.fit_resample(X_train, Y_train)\n",
    "from sklearn.utils import resample\n",
    "\n",
    "x_oversampled, y_oversampled = resample(X_train[Y_train.values == 1],\n",
    "                                        Y_train[Y_train.values == 1],\n",
    "                                        replace=True,\n",
    "                                        n_samples=X_train[Y_train.values == 3].shape[0],\n",
    "                                        random_state=123)\n",
    "print(x_oversampled.shape)\n",
    "X_balanced = np.vstack((X_train[Y_train.values == 3], x_oversampled))\n",
    "y_balanced = np.hstack((Y_train[Y_train.values == 3], y_oversampled))\n",
    "print(X_balanced.shape)\n",
    "\n",
    "x_overversampled, y_oversampled = resample(X_train[Y_train.values == 2],\n",
    "                                        Y_train[Y_train.values == 2],\n",
    "                                        replace=True,\n",
    "                                        n_samples=X_train[Y_train.values == 3].shape[0],\n",
    "                                        random_state=123)\n",
    "X_balanced = np.vstack((X_balanced, x_oversampled))\n",
    "y_balanced = np.hstack((y_balanced, y_oversampled))\n",
    "print(X_balanced.shape)\n",
    "\n",
    "x_oversampled, y_oversampled = resample(X_train[Y_train.values == 4],\n",
    "                                        Y_train[Y_train.values == 4],\n",
    "                                        replace=True,\n",
    "                                        n_samples=X_train[Y_train.values == 3].shape[0],\n",
    "                                        random_state=123)\n",
    "X_balanced = np.vstack((X_balanced, x_oversampled))\n",
    "y_balanced = np.hstack((y_balanced, y_oversampled))\n",
    "print(X_balanced.shape)\n",
    "\n",
    "x_oversampled, y_oversampled = resample(X_train[Y_train.values == 5],\n",
    "                                        Y_train[Y_train.values == 5],\n",
    "                                        replace=True,\n",
    "                                        n_samples=X_train[Y_train.values == 3].shape[0],\n",
    "                                        random_state=123)\n",
    "X_balanced = np.vstack((X_balanced, x_oversampled))\n",
    "y_balanced = np.hstack((y_balanced, y_oversampled))\n",
    "print(X_balanced.shape)\n",
    "\n",
    "x_oversampled, y_oversampled = resample(X_train[Y_train.values == 6],\n",
    "                                        Y_train[Y_train.values == 6],\n",
    "                                        replace=True,\n",
    "                                        n_samples=X_train[Y_train.values == 3].shape[0],\n",
    "                                        random_state=123)\n",
    "X_balanced = np.vstack((X_balanced, x_oversampled))\n",
    "y_balanced = np.hstack((y_balanced, y_oversampled))\n",
    "print(X_balanced.shape)\n",
    "\n",
    "x_oversampled, y_oversampled = resample(X_train[Y_train.values == 7],\n",
    "                                        Y_train[Y_train.values == 7],\n",
    "                                        replace=True,\n",
    "                                        n_samples=X_train[Y_train.values == 3].shape[0],\n",
    "                                        random_state=123)\n",
    "X_balanced = np.vstack((X_balanced, x_oversampled))\n",
    "y_balanced = np.hstack((y_balanced, y_oversampled))\n",
    "X_train = X_balanced\n",
    "Y_train = y_balanced\n",
    "print(X_balanced.shape)"
   ]
  },
  {
   "cell_type": "markdown",
   "metadata": {},
   "source": [
    "## Feature selection"
   ]
  },
  {
   "cell_type": "code",
   "execution_count": null,
   "metadata": {
    "pycharm": {
     "name": "#%%\n"
    }
   },
   "outputs": [],
   "source": [
    "scaler = MinMaxScaler()\n",
    "X = scaler.fit_transform(X_train)\n",
    "Y = Y_train.ravel() # Returns data as numpy array\n",
    "# Y = Y_train.values.ravel()"
   ]
  },
  {
   "cell_type": "markdown",
   "metadata": {
    "collapsed": false
   },
   "source": [
    "##PCA"
   ]
  },
  {
   "cell_type": "code",
   "execution_count": null,
   "metadata": {},
   "outputs": [
    {
     "name": "stdout",
     "output_type": "stream",
     "text": [
      "(92961, 54)\n",
      "[1 2 1 ... 3 2 2] (92961,)\n"
     ]
    }
   ],
   "source": [
    "print(X.shape)\n",
    "print(Y, Y.shape)"
   ]
  },
  {
   "cell_type": "code",
   "execution_count": null,
   "metadata": {
    "collapsed": false,
    "pycharm": {
     "name": "#%%\n"
    }
   },
   "outputs": [
    {
     "name": "stdout",
     "output_type": "stream",
     "text": [
      "(40047, 11)\n",
      "\n",
      " First 11 principal components\n",
      "[[-2.58818387e-01  1.32045670e-01  6.24635261e-02 -6.58025856e-02\n",
      "   2.88295500e-01 -1.43430231e-01 -3.00071010e-02  2.69064357e-03\n",
      "  -6.57455484e-02  4.37239430e-02  6.06521527e-02]\n",
      " [ 2.10040244e-03 -1.10792505e-01  6.54663340e-01 -4.04719596e-01\n",
      "  -1.70571021e-01 -1.02619300e-01  3.71639056e-01  8.75528765e-02\n",
      "  -1.45442205e-02 -6.63882746e-02 -3.88592109e-02]\n",
      " [ 8.81236388e-02 -3.98115060e-02 -4.12355890e-02  1.54572046e-01\n",
      "  -2.77868417e-02 -1.43704435e-01  3.44731402e-01  5.18580681e-02\n",
      "  -1.01809515e-01  5.97125236e-02  3.72672902e-02]\n",
      " [-7.40199314e-02 -6.76627067e-03  1.54235388e-02 -3.63523727e-02\n",
      "   1.56428804e-01 -2.54549982e-01  1.08941157e-03 -6.34674385e-02\n",
      "  -7.08756250e-02 -1.53029228e-02 -3.59405233e-02]\n",
      " [-2.33215953e-03 -2.23155738e-02 -6.99066470e-03 -1.10340314e-03\n",
      "   7.42811116e-02 -1.74877141e-01  8.52330773e-02 -2.06550605e-02\n",
      "  -8.15744610e-02 -1.74990969e-02 -7.16510778e-03]\n",
      " [-1.49542281e-01  1.24604355e-01  1.01707454e-01 -6.32072883e-02\n",
      "   4.49581154e-02 -1.56191957e-01 -1.59650291e-01  1.62980689e-01\n",
      "   1.12684295e-01 -9.87962910e-03  2.56833986e-01]\n",
      " [-1.61763089e-02  4.64191736e-02 -2.46117934e-01  9.28466916e-03\n",
      "   1.44188241e-02  2.76229515e-02 -2.51295002e-02  1.41118738e-02\n",
      "   4.80847040e-02  3.32505314e-02 -2.36915898e-02]\n",
      " [-6.23581753e-02 -9.35669322e-03  9.42424836e-02 -2.24269664e-01\n",
      "  -7.73761692e-02  6.96701095e-02 -1.05700986e-01 -2.98280213e-02\n",
      "   6.49347837e-02  7.14745877e-03 -9.46662176e-03]\n",
      " [-4.04296384e-02 -5.57085842e-02  3.77553214e-01 -1.89400490e-01\n",
      "  -6.28285837e-02  3.95521443e-02 -1.13116324e-01 -5.20168960e-02\n",
      "   2.62094645e-03 -4.86172838e-02  1.47251190e-02]\n",
      " [-9.00360409e-02  1.01815046e-01  2.18052009e-02 -1.08925081e-02\n",
      "   4.71856487e-02 -5.19598136e-02 -7.03479922e-02  2.40971298e-02\n",
      "  -2.58780730e-02  4.88133560e-02  4.04613349e-02]\n",
      " [-7.22753347e-02  7.00624351e-01  9.58860377e-02  1.34934872e-01\n",
      "  -1.65181949e-01  6.99616947e-02  1.38296339e-01  7.99672198e-03\n",
      "   1.46688107e-01 -1.46562373e-01  6.17032798e-02]\n",
      " [-8.68448997e-03  2.18190359e-02  3.35311079e-02 -1.44506479e-01\n",
      "   4.30561674e-01  2.97496330e-02  5.92337480e-03 -1.24393191e-01\n",
      "  -3.29287798e-01  3.55365519e-01 -2.71263247e-01]\n",
      " [-5.84229798e-01 -5.13051024e-01 -7.79955305e-02  1.52346195e-01\n",
      "  -2.11217159e-01 -2.08826244e-02 -6.50065858e-03  1.00306049e-01\n",
      "   1.07525933e-01 -1.07968290e-01  5.30841998e-02]\n",
      " [ 6.65189622e-01 -2.09392363e-01 -5.14216150e-02 -1.42774587e-01\n",
      "  -5.41625670e-02 -7.88287033e-02 -1.37719055e-01  1.60904202e-02\n",
      "   7.50737580e-02 -1.00834856e-01  1.56475767e-01]\n",
      " [ 4.87200748e-02 -1.15620274e-02 -4.02603283e-02 -4.37311341e-02\n",
      "  -1.30110119e-02  1.23568072e-02 -2.43507026e-02 -4.92920828e-02\n",
      "  -1.91358677e-02 -3.66197083e-02  1.49665672e-02]\n",
      " [ 1.65765489e-03 -4.13450079e-02 -5.36198117e-02 -4.98841468e-02\n",
      "  -8.22920703e-02  4.92318458e-02 -1.30026463e-01 -8.26054141e-02\n",
      "   3.14627198e-02 -2.05644110e-01 -1.16487949e-01]\n",
      " [ 1.29842915e-01 -3.69264522e-02 -2.66515059e-01 -1.41868439e-01\n",
      "  -1.72270466e-02 -2.25125680e-01  3.36072170e-01  6.08453412e-01\n",
      "   1.67332737e-01  1.64217033e-01 -8.17057184e-02]\n",
      " [-2.23609118e-02 -7.11590273e-02 -7.64459781e-02 -4.67584466e-02\n",
      "  -3.74148557e-01  1.64748186e-01  2.32098087e-01 -4.20871938e-01\n",
      "  -4.30295470e-02  5.90886012e-01  2.50657808e-01]\n",
      " [ 2.22774089e-02 -5.75832358e-03 -9.65835421e-03 -2.04506707e-02\n",
      "  -4.37127144e-03 -1.83734915e-03 -1.43021823e-03 -1.80505254e-02\n",
      "  -1.19151283e-02 -1.49515549e-02  3.83968387e-03]\n",
      " [ 8.34827303e-02 -1.97236050e-02 -4.67380727e-02 -1.51675266e-01\n",
      "   1.77527616e-02 -2.37503799e-02 -1.89924599e-01 -2.05992015e-01\n",
      "  -8.51368202e-02 -2.12206026e-01  9.95507528e-02]\n",
      " [-0.00000000e+00  1.50463277e-36  1.61558713e-27  0.00000000e+00\n",
      "   0.00000000e+00 -2.16840434e-19 -6.93889390e-18  1.11022302e-16\n",
      "  -0.00000000e+00  5.55111512e-17  2.77555756e-17]\n",
      " [-0.00000000e+00 -0.00000000e+00 -0.00000000e+00 -2.06795153e-25\n",
      "   0.00000000e+00  5.42101086e-20 -0.00000000e+00  2.77555756e-16\n",
      "   4.16333634e-17 -0.00000000e+00 -2.77555756e-17]\n",
      " [ 1.42165089e-05  6.97111163e-04  1.69488482e-04  3.00693442e-05\n",
      "  -4.40214887e-04  8.93835005e-04  6.84099929e-04 -4.71135177e-04\n",
      "   3.95576404e-04 -6.02565139e-04 -4.36313251e-04]\n",
      " [ 2.05098674e-01 -1.67001161e-01  4.66795014e-01  7.22825520e-01\n",
      "   1.44339279e-01  2.16482053e-02 -5.72579533e-02  7.21747414e-02\n",
      "   5.52966672e-02  1.08909137e-01 -6.34666015e-03]\n",
      " [-1.13360096e-02 -2.27156907e-02 -2.40310853e-02 -7.08408042e-03\n",
      "  -2.60653992e-02  1.68079678e-02 -3.40370740e-02 -1.39307729e-02\n",
      "   7.10540218e-03 -3.98182681e-02 -2.83523158e-02]\n",
      " [-9.79224369e-04  9.93975657e-03  2.72993888e-04  1.03625650e-03\n",
      "   1.03780056e-03  5.42802198e-03 -1.35689082e-03 -4.40138741e-03\n",
      "   5.82145394e-03 -5.76429192e-03  1.93954297e-03]\n",
      " [-3.64018321e-02 -3.49968127e-02 -1.59789848e-02  8.03777403e-03\n",
      "  -4.27229726e-02 -1.99935807e-02  6.16795227e-02  2.42198331e-02\n",
      "  -1.85107114e-02 -4.36827683e-02 -4.85741039e-02]\n",
      " [ 2.29323036e-02 -8.27474696e-03 -1.93524810e-02 -2.42606429e-02\n",
      "  -1.52670143e-02  2.70965332e-02 -3.62566853e-02 -2.43278719e-02\n",
      "   4.38647387e-03 -2.19171418e-02  1.13745666e-03]\n",
      " [ 2.47289272e-04 -4.93559868e-05 -3.25917173e-04 -1.03840030e-04\n",
      "  -2.79249323e-05  2.79232497e-04 -4.89119249e-04 -2.63128233e-04\n",
      "   3.71862574e-05 -1.07881238e-04  3.35737937e-06]\n",
      " [ 3.99183559e-03  1.19396861e-03  1.68557031e-03 -1.00074348e-02\n",
      "  -6.66398329e-03  7.78629910e-03 -4.34924744e-03 -3.95435349e-03\n",
      "   5.15676870e-03 -8.80392759e-03  1.63961406e-03]\n",
      " [ 2.51428791e-02 -3.20185836e-02 -2.03097311e-02 -9.39933826e-02\n",
      "  -9.46702196e-02  9.51590343e-02 -1.63238680e-01 -6.86227727e-02\n",
      "   6.38320888e-02 -1.72988826e-01  1.95669522e-03]\n",
      " [-3.23012345e-04  7.66724643e-03 -2.60721340e-04  1.13692439e-03\n",
      "  -1.65841657e-03  8.37807463e-03  7.06572009e-04 -5.27260052e-03\n",
      "   3.27790018e-03 -3.55701483e-03 -3.21792968e-03]\n",
      " [-3.52446817e-03  3.50217132e-03  3.46443318e-03 -5.63423141e-03\n",
      "   5.22810188e-03  5.03912505e-03 -2.55683727e-03 -3.02776765e-03\n",
      "  -1.78645167e-03  1.64771260e-03 -4.61830638e-03]\n",
      " [-7.73870843e-03  1.71105708e-03 -1.58547757e-03  7.77130004e-04\n",
      "  -9.40645662e-03  1.21435261e-02 -2.88285142e-03 -5.02249063e-04\n",
      "   9.15167635e-03 -1.14657303e-02 -2.67426991e-03]\n",
      " [-9.46886143e-04 -8.45097727e-04  1.14363225e-03 -1.14797095e-03\n",
      "  -1.30773768e-03  2.91255402e-04  6.07140794e-04  4.90010845e-04\n",
      "   3.49706935e-04 -1.07410953e-03 -4.74547480e-04]\n",
      " [-2.48121305e-02  5.44970651e-02  3.19418163e-02 -3.56649175e-02\n",
      "   8.71430701e-02  3.64613581e-02  4.85628019e-02 -6.45157776e-02\n",
      "  -1.94999290e-02 -2.85943526e-02 -5.29150586e-02]\n",
      " [-5.58890668e-02  5.23051387e-02  7.42912775e-02 -1.23112627e-01\n",
      "   1.36630652e-01  6.71075623e-01 -1.26575755e-01  4.61696656e-01\n",
      "  -6.31983133e-02  1.45800919e-01  1.45070170e-01]\n",
      " [-2.20242107e-02 -8.26835189e-03 -5.71825157e-03  7.25794763e-04\n",
      "   1.85237420e-02 -1.57161435e-02  9.59306076e-03 -2.41863938e-03\n",
      "  -2.70361124e-02 -1.86241118e-03 -2.29964585e-02]\n",
      " [-7.26778723e-06  1.47829804e-04 -1.34583456e-04 -6.66175267e-04\n",
      "   2.65177888e-03 -7.62413698e-05  4.39085049e-04 -1.17394666e-03\n",
      "  -2.75749672e-03  2.56643878e-03 -2.37410948e-03]\n",
      " [-3.79343901e-03 -2.85432556e-03 -2.19827658e-03  2.15466810e-04\n",
      "  -1.96936729e-03 -3.13707462e-04 -3.38958161e-03  1.29290861e-03\n",
      "   1.58259814e-03 -2.51999838e-03 -4.71355120e-04]\n",
      " [-2.27080287e-03 -1.58925806e-03 -1.34095325e-04 -4.83477168e-04\n",
      "  -5.12264012e-05 -2.73130686e-03  3.58390499e-04  1.18602399e-03\n",
      "  -1.70915937e-04 -1.40514730e-03  4.64955105e-04]\n",
      " [-8.35541773e-04 -9.66547207e-04  8.43352360e-04 -5.46999952e-04\n",
      "  -1.88362367e-03  5.16870027e-04  1.07892963e-03  3.10721848e-04\n",
      "   1.26484820e-04 -1.09215529e-03 -6.89787767e-04]\n",
      " [-2.46038798e-02  2.66205038e-01  7.04032436e-02  8.03905451e-02\n",
      "  -4.56518849e-01 -3.72454583e-01 -3.61876374e-01  1.62076995e-01\n",
      "  -2.06705218e-01  2.34501671e-01 -1.06313307e-01]\n",
      " [-1.20989752e-03  1.25140130e-01 -5.97491638e-02  1.07853682e-01\n",
      "   8.00031624e-03  1.75551528e-01  4.37056577e-01 -2.05119283e-01\n",
      "   1.18612942e-01 -2.96054491e-01 -2.32905726e-01]\n",
      " [-3.52039646e-02 -2.71248342e-02 -1.63785973e-02  1.75681055e-03\n",
      "  -5.07307823e-03 -2.03250477e-02 -2.97642737e-02  8.59121930e-03\n",
      "  -2.46160933e-05 -3.79979441e-02 -1.69732793e-02]\n",
      " [-6.83850629e-02 -5.12381247e-02 -1.03058174e-03 -4.89440953e-02\n",
      "   2.14620748e-02 -6.54345818e-02 -9.46875223e-02  7.94087276e-03\n",
      "  -1.06124839e-01 -1.51362642e-01 -3.73659907e-01]\n",
      " [-5.54874705e-02 -4.38761284e-02 -2.20118663e-02  3.18608717e-03\n",
      "   1.22138361e-02 -7.87776465e-02  5.94374586e-02  4.29414740e-02\n",
      "  -1.14255888e-01 -2.88422218e-02 -1.08692376e-01]\n",
      " [-1.83869862e-03 -1.21294712e-03 -2.54326519e-04 -5.54292874e-04\n",
      "   2.50431346e-04 -1.71948768e-03 -2.03300876e-03  5.07848391e-04\n",
      "   5.58194077e-04 -1.47048809e-03  4.09356785e-04]\n",
      " [-7.22842276e-03  1.25119015e-03 -2.47914831e-03 -1.61629090e-03\n",
      "   8.63315038e-03  3.69117528e-04 -5.66198560e-03 -6.97342589e-04\n",
      "  -8.38867231e-04 -2.66309833e-04 -9.74147080e-04]\n",
      " [-9.31983977e-04 -5.45301542e-04 -4.51986622e-05 -3.97484782e-04\n",
      "   7.38851617e-04 -1.86613138e-03 -4.71504702e-04  2.15871354e-04\n",
      "  -1.19645939e-04 -6.00544360e-04  2.73579675e-04]\n",
      " [-1.22569708e-03  4.96949852e-03 -2.59141674e-03  3.12506238e-03\n",
      "   3.55108728e-03  1.11431852e-03 -1.31897333e-03 -7.93762022e-04\n",
      "   2.59381807e-03 -1.87409014e-03  3.72527857e-03]\n",
      " [-6.55835627e-02  2.59134723e-02  5.72922931e-02 -1.09559123e-01\n",
      "   3.07016115e-01 -2.03835972e-01 -8.82855681e-02 -1.65693644e-01\n",
      "   7.35547631e-01  2.27363548e-01  8.85687966e-02]\n",
      " [-5.68126675e-02  1.93455785e-02 -3.38198368e-02  2.72982851e-02\n",
      "   1.94425827e-01 -1.64068754e-01  1.51183710e-01  3.68729770e-04\n",
      "  -3.22305492e-01 -2.31304860e-01  6.82448918e-01]\n",
      " [-3.16531620e-02  1.55654591e-02  1.33242305e-02 -4.02502376e-02\n",
      "   1.85177566e-01 -1.14350173e-01  2.26642613e-02 -5.04689107e-02\n",
      "  -1.70076166e-01  8.85591092e-02 -8.47989069e-02]]\n",
      "\n",
      " First 11 singular values \n",
      "[130.58491055 116.09280623  73.05324404  64.89008065  54.10461403\n",
      "  51.81250892  49.54267279  48.49292872  46.4472582   45.87046217\n",
      "  44.80184328]\n",
      "\n",
      " Explained Variance Ratio\n",
      "[0.21763339 0.1720086  0.0681112  0.05373982 0.03736011 0.03426169\n",
      " 0.03132553 0.0300121  0.02753339 0.0268538  0.02561718]\n",
      "\n",
      " Accumulated Explained Variance Ratio\n",
      "[0.21763339 0.38964199 0.45775319 0.51149301 0.54885312 0.58311481\n",
      " 0.61444034 0.64445244 0.67198583 0.69883963 0.72445681]\n"
     ]
    }
   ],
   "source": [
    "X_proy, pca = our.our_PCA(X)\n",
    "num_of_pc = len(pca.singular_values_)\n",
    "strTitle = '\\n First %d principal components' %(num_of_pc)\n",
    "print(strTitle)\n",
    "print(pca.components_.T)\n",
    "strTitle = '\\n First %d singular values ' %(num_of_pc)\n",
    "print(strTitle)\n",
    "print(pca.singular_values_.T)\n",
    "strTitle = '\\n Explained Variance Ratio'\n",
    "print(strTitle)\n",
    "print(pca.explained_variance_ratio_.T)\n",
    "strTitle = '\\n Accumulated Explained Variance Ratio'\n",
    "print(strTitle)\n",
    "print(np.cumsum(pca.explained_variance_ratio_.T))"
   ]
  },
  {
   "cell_type": "markdown",
   "metadata": {},
   "source": [
    "## Multiclass. OvO vs OvR"
   ]
  },
  {
   "cell_type": "code",
   "execution_count": null,
   "metadata": {
    "pycharm": {
     "is_executing": true,
     "name": "#%%\n"
    }
   },
   "outputs": [
    {
     "name": "stdout",
     "output_type": "stream",
     "text": [
      "OvO produces 21 classifiers\n",
      "OvR produces 7 classifiers\n"
     ]
    }
   ],
   "source": [
    "# Multiclass\n",
    "from sklearn.multiclass import OneVsOneClassifier\n",
    "from sklearn.multiclass import OneVsRestClassifier\n",
    "from sklearn.svm import SVC\n",
    "from sklearn.tree import DecisionTreeClassifier\n",
    "\n",
    "max_depth = 10\n",
    "base_clf = DecisionTreeClassifier(max_depth = max_depth, random_state=seed)\n",
    "\n",
    "# base_clf = SVC(kernel='rbf', degree=2, gamma=1, random_state = seed)\n",
    "X = X_proy\n",
    "# Train OvO \n",
    "OvO_clf = OneVsOneClassifier(base_clf)\n",
    "OvO_clf.fit(X,Y)\n",
    "\n",
    "# Train OvR \n",
    "OvR_clf = OneVsRestClassifier(base_clf)\n",
    "OvR_clf.fit(X,Y)\n",
    "\n",
    "# Check\n",
    "strlog = \"OvO produces %d classifiers\" %(len(OvO_clf.estimators_))\n",
    "print(strlog)\n",
    "strlog = \"OvR produces %d classifiers\" %(len(OvR_clf.estimators_))\n",
    "print(strlog)\n"
   ]
  },
  {
   "cell_type": "markdown",
   "metadata": {},
   "source": [
    "## Validation"
   ]
  },
  {
   "cell_type": "code",
   "execution_count": null,
   "metadata": {
    "pycharm": {
     "name": "#%%\n"
    }
   },
   "outputs": [],
   "source": [
    "# Feature engineering, selection and rescaling to [0,1]\n",
    "X_pred = scaler.transform(X_valid)\n",
    "# PCA\n",
    "X_pred = pca.transform(X_pred)\n",
    "Y_true = Y_valid.values.ravel()\n",
    "\n",
    "# predict\n",
    "Y_pred_OvO = OvO_clf.predict(X_pred)\n",
    "Y_pred_OvR = OvR_clf.predict(X_pred)\n"
   ]
  },
  {
   "cell_type": "markdown",
   "metadata": {},
   "source": [
    "## Confusion Matrix\n",
    "\n",
    "To check the performance of our model, we use Confusion Matrix as metric. This give us a general idea of how good is the model and let us compare it with the multiple combinations of feature that we have available."
   ]
  },
  {
   "cell_type": "code",
   "execution_count": null,
   "metadata": {
    "pycharm": {
     "name": "#%%\n"
    }
   },
   "outputs": [
    {
     "name": "stdout",
     "output_type": "stream",
     "text": [
      "\n",
      "OvO confusion matrix:\n",
      "\n",
      "[[ 913 1345  817  455 1210 1487 2247]\n",
      " [1203 2159 1416  439 1117 1668 3330]\n",
      " [ 101   47  382   58  214  216  412]\n",
      " [   4   12   12    1   46   16   19]\n",
      " [  55   43   36    2   49   65  130]\n",
      " [  52   13  184   24   89   90  243]\n",
      " [  81   88  250   82   78   84  157]]\n",
      "\n",
      "\n",
      "OvO Hits  = 3751\n",
      "OvO Fails = 19490\n",
      "OvO Accuracy = 0.161396\n",
      "\n",
      "OvR confusion matrix:\n",
      "\n",
      "[[ 613  950 1639  395 1210 2076 1591]\n",
      " [ 845  677 2853  294 1644 2902 2117]\n",
      " [ 198   71  119  124  266  437  215]\n",
      " [  17   21   12    7   16   32    5]\n",
      " [  34   66   35   11   46  103   85]\n",
      " [  84   17  143   36   50  265  100]\n",
      " [ 109   47  210  141   62  125  126]]\n",
      "\n",
      "\n",
      "OvR Hits  = 1853\n",
      "OvR Fails = 21388\n",
      "OvR Accuracy = 0.079730\n"
     ]
    }
   ],
   "source": [
    "# Performance metrics\n",
    "\n",
    "from sklearn.metrics import confusion_matrix, precision_recall_fscore_support\n",
    "\n",
    "conf_mat_OvO = confusion_matrix(Y_true,Y_pred_OvO)\n",
    "hits_OvO = np.trace(conf_mat_OvO)\n",
    "conf_mat_OvR = confusion_matrix(Y_true,Y_pred_OvR)\n",
    "hits_OvR = np.trace(conf_mat_OvR)\n",
    "\n",
    "# Print out\n",
    "print(\"\\nOvO confusion matrix:\\n\")\n",
    "print(conf_mat_OvO)\n",
    "print(\"\\n\")\n",
    "print( \"OvO Hits  = %d\"%(hits_OvO) ) \n",
    "print( \"OvO Fails = %d\"%(Y_true.shape[0]-hits_OvO) )\n",
    "print( \"OvO Accuracy = %f\"%(hits_OvO/(Y_true.shape[0])))\n",
    "print(\"\\nOvR confusion matrix:\\n\")\n",
    "print(conf_mat_OvR)\n",
    "print( \"\\n\")\n",
    "print( \"OvR Hits  = %d\"%(hits_OvR) ) \n",
    "print( \"OvR Fails = %d\"%(Y_true.shape[0]-hits_OvR) )\n",
    "print( \"OvR Accuracy = %f\"%(hits_OvR/Y_true.shape[0]))\n"
   ]
  },
  {
   "cell_type": "markdown",
   "metadata": {},
   "source": [
    "## Competition data"
   ]
  },
  {
   "cell_type": "code",
   "execution_count": null,
   "metadata": {},
   "outputs": [],
   "source": [
    "# Load competition data\n",
    "challenge_data = pd.read_csv('Reto 3-Dataset/reto3_testX.csv', header=0)\n",
    "challenge_data = scaler.transform(challenge_data)\n",
    "# PCA\n",
    "challenge_features = pca.transform(challenge_data) # Principal components\n",
    "\n",
    "# Inference\n",
    "Y_chal_OvO = OvO_clf.predict(challenge_features)\n",
    "Y_chal_OvR = OvR_clf.predict(challenge_features)"
   ]
  },
  {
   "cell_type": "markdown",
   "metadata": {},
   "source": [
    "## Save results"
   ]
  },
  {
   "cell_type": "code",
   "execution_count": null,
   "metadata": {},
   "outputs": [],
   "source": [
    "#np.savetxt('Reto3_Ypred.csv', Y_chal_OvO, fmt='%i', delimiter=',')"
   ]
  },
  {
   "cell_type": "code",
   "execution_count": null,
   "metadata": {},
   "outputs": [],
   "source": []
  }
 ],
 "metadata": {
  "interpreter": {
   "hash": "31f2aee4e71d21fbe5cf8b01ff0e069b9275f58929596ceb00d14d90e3e16cd6"
  },
  "kernelspec": {
   "display_name": "Python 3 (ipykernel)",
   "language": "python",
   "name": "python3"
  },
  "language_info": {
   "codemirror_mode": {
    "name": "ipython",
    "version": 3
   },
   "file_extension": ".py",
   "mimetype": "text/x-python",
   "name": "python",
   "nbconvert_exporter": "python",
   "pygments_lexer": "ipython3",
   "version": "3.6.9"
  }
 },
 "nbformat": 4,
 "nbformat_minor": 1
}

{
 "cells": [
  {
   "cell_type": "markdown",
   "metadata": {
    "collapsed": true,
    "pycharm": {
     "name": "#%% md\n"
    }
   },
   "source": [
    "# Reto 3\n",
    "\n",
    "## Miguel Ortiz y Andrea Castiella\n"
   ]
  },
  {
   "cell_type": "code",
   "execution_count": 1,
   "metadata": {
    "pycharm": {
     "name": "#%%\n"
    }
   },
   "outputs": [],
   "source": [
    "import numpy  as np\n",
    "import pandas as pd\n",
    "import OurUtils as our\n",
    "from sklearn.preprocessing import MinMaxScaler"
   ]
  },
  {
   "cell_type": "code",
   "execution_count": 2,
   "metadata": {
    "pycharm": {
     "name": "#%%\n"
    }
   },
   "outputs": [
    {
     "name": "stdout",
     "output_type": "stream",
     "text": [
      "   altitud  azimut  inclinacion  DH_agua  DV_agua  DH_camino  sombra_9am  \\\n",
      "0     3351     354           19      450       95       1064         185   \n",
      "1     2995      84            7      481       30       5154         231   \n",
      "2     2884      72           25      210      -45        466         239   \n",
      "3     3139      76           11      301       58       1368         234   \n",
      "4     3018     312           17       30       10       1719         172   \n",
      "\n",
      "   sombra_12pm  sombra_3pm  DH_fuego  ...  t31  t32  t33  t34  t35  t36  t37  \\\n",
      "0          203         153       711  ...    0    0    0    0    0    0    0   \n",
      "1          227         129      5488  ...    0    0    0    0    0    0    0   \n",
      "2          183          60      2123  ...    0    0    0    0    0    0    0   \n",
      "3          220         117      3282  ...    0    0    1    0    0    0    0   \n",
      "4          225         193      1961  ...    0    0    0    0    0    0    0   \n",
      "\n",
      "   t38  t39  t40  \n",
      "0    0    1    0  \n",
      "1    0    0    0  \n",
      "2    0    0    0  \n",
      "3    0    0    0  \n",
      "4    0    0    0  \n",
      "\n",
      "[5 rows x 54 columns]\n",
      "   tipo_bosque\n",
      "0            1\n",
      "1            2\n",
      "2            2\n",
      "3            1\n",
      "4            1\n"
     ]
    }
   ],
   "source": [
    "# Read data\n",
    "X_full = pd.read_csv('Reto 3-Dataset/reto3_trainX.csv', header=0, low_memory=False)\n",
    "Y_full = pd.read_csv('Reto 3-Dataset/reto3_trainY.csv', header=0, low_memory=False)\n",
    "\n",
    "print(X_full.head())\n",
    "print(Y_full.head())"
   ]
  },
  {
   "cell_type": "markdown",
   "metadata": {},
   "source": [
    "## Split dataset\n",
    "Train split: 80%\n",
    "\n",
    "Validation split: 20%"
   ]
  },
  {
   "cell_type": "code",
   "execution_count": 3,
   "metadata": {
    "pycharm": {
     "name": "#%%\n"
    }
   },
   "outputs": [],
   "source": [
    "# Split into train and validation\n",
    "valid_size = 0.2\n",
    "seed = 1234\n",
    "X_train, Y_train, X_valid, Y_valid = \\\n",
    "   our.single_stratified_split(X_full, Y_full, test_size=valid_size, random_state=seed)"
   ]
  },
  {
   "cell_type": "markdown",
   "metadata": {},
   "source": [
    "## Imbalanced class problem"
   ]
  },
  {
   "cell_type": "code",
   "execution_count": null,
   "metadata": {},
   "outputs": [],
   "source": [
    "from imblearn.over_sampling import SMOTE\n",
    "from imblearn.under_sampling import RandomUnderSampler\n",
    "\n",
    "over = SMOTE(random_state=seed, sampling_strategy={3:10000 , 4:10000 , 5: 10000, 6:10000 , 7:10000})\n",
    "X_train, Y_train = over.fit_resample(X_train, Y_train)\n",
    "\n",
    "under = RandomUnderSampler(random_state=seed, sampling_strategy={1:10000 , 2:10000})\n",
    "X_train, Y_train = over.fit_resample(X_train, Y_train)"
   ]
  },
  {
   "cell_type": "markdown",
   "metadata": {},
   "source": [
    "## Scale and transform features"
   ]
  },
  {
   "cell_type": "code",
   "execution_count": 4,
   "metadata": {
    "pycharm": {
     "name": "#%%\n"
    }
   },
   "outputs": [],
   "source": [
    "scaler = MinMaxScaler()\n",
    "X = scaler.fit_transform(X_train)\n",
    "Y = Y_train.values.ravel() # Returns data as numpy array\n",
    "\n",
    "from imblearn.over_sampling import SMOTE\n",
    "sm = SMOTE(random_state=seed)\n",
    "X, Y = sm.fit_resample(X, Y)"
   ]
  },
  {
   "cell_type": "markdown",
   "metadata": {},
   "source": [
    "## PCA"
   ]
  },
  {
   "cell_type": "code",
   "execution_count": 6,
   "metadata": {
    "collapsed": false,
    "pycharm": {
     "name": "#%%\n"
    }
   },
   "outputs": [
    {
     "name": "stdout",
     "output_type": "stream",
     "text": [
      "(317296, 10)\n",
      "\n",
      " First 10 principal components\n",
      "[[-2.42711647e-01  1.26445975e-01  5.13225464e-02 -6.60406887e-02\n",
      "   2.62259679e-01 -1.95525696e-01 -1.18671165e-02  1.63211750e-01\n",
      "   2.63858331e-02  7.25965647e-02]\n",
      " [ 7.57239214e-03 -1.03929194e-01  5.99024743e-01 -5.28692340e-01\n",
      "  -6.39832101e-02  1.46704814e-01  3.31509814e-01  4.05015071e-03\n",
      "  -8.40157146e-02  6.42404442e-02]\n",
      " [ 6.46370411e-02 -4.10950106e-02 -1.44687325e-02  1.06456960e-01\n",
      "  -2.91531920e-02  5.35449359e-02  2.52837527e-01  1.28762734e-01\n",
      "  -4.25619117e-02  1.35293204e-01]\n",
      " [-7.14186410e-02  1.21396225e-03  1.80844329e-02 -4.84997933e-02\n",
      "   1.08364549e-01 -1.73484305e-01  2.64186959e-02  1.56670917e-01\n",
      "  -1.34270266e-01  3.70316235e-02]\n",
      " [-3.98038250e-03 -1.54001386e-02 -8.64570694e-04 -8.37655440e-03\n",
      "   3.71384247e-02 -5.67367681e-02  6.17587103e-02  8.35818089e-02\n",
      "  -7.17014597e-02  5.98763573e-02]\n",
      " [-1.24368793e-01  1.25360173e-01  9.17883483e-02 -8.09848985e-02\n",
      "   3.54391021e-02 -2.05471828e-01  5.82251738e-03  2.59605799e-02\n",
      "   9.68806263e-02 -7.29175643e-02]\n",
      " [-1.63302264e-02  4.84332168e-02 -2.44493345e-01  5.68121985e-02\n",
      "   6.94059513e-03 -1.31394381e-03 -4.92958293e-04  4.95979847e-05\n",
      "   3.15922479e-02 -5.14143592e-02]\n",
      " [-4.82930628e-02 -1.03927964e-03  5.15962607e-02 -1.80274669e-01\n",
      "  -4.00828984e-02  2.40032515e-02 -7.58526650e-02 -4.50349605e-02\n",
      "   3.49615593e-02 -7.74968717e-02]\n",
      " [-3.62138232e-02 -5.01617783e-02  3.45789759e-01 -2.40288717e-01\n",
      "  -3.45400011e-02  6.31748939e-03 -1.27813204e-01 -6.61936739e-02\n",
      "  -2.57747552e-03 -3.28322156e-02]\n",
      " [-8.16889274e-02  1.17240442e-01  2.95941542e-02 -1.83495326e-02\n",
      "   2.65983804e-02 -8.13847190e-02 -3.52633868e-02  3.65519068e-02\n",
      "   5.46721728e-02 -6.19816650e-03]\n",
      " [-3.65736269e-02  7.02715760e-01  1.12531269e-01  1.00278205e-01\n",
      "  -6.24026593e-02  1.88154799e-01  9.01591256e-02 -8.20891557e-02\n",
      "  -6.18589438e-02 -7.42873199e-02]\n",
      " [-5.78709291e-03  1.61623699e-02  7.64890812e-03 -9.57893940e-02\n",
      "   3.09763721e-01 -9.36873800e-02 -1.01581172e-01  2.10641021e-01\n",
      "   1.57964796e-01  1.83506286e-01]\n",
      " [-6.17808675e-01 -4.69420403e-01 -4.05810568e-02  1.28007274e-01\n",
      "  -1.92737883e-01  6.59240923e-03  7.47682340e-02 -1.15151966e-01\n",
      "  -5.00117847e-02 -6.99388521e-02]\n",
      " [ 6.60169395e-01 -2.49457727e-01 -7.95991205e-02 -1.32496085e-01\n",
      "  -5.46231787e-02 -1.01059829e-01 -6.33461873e-02 -1.33998998e-02\n",
      "  -4.60940672e-02 -3.92801143e-02]\n",
      " [ 4.87181664e-02 -1.45581514e-02 -4.75843649e-02 -3.99857402e-02\n",
      "  -8.12972622e-03  8.59031966e-03 -5.76052381e-02 -9.90129157e-03\n",
      "  -3.95867727e-02  2.31821867e-02]\n",
      " [ 6.14404506e-04 -4.08913405e-02 -6.12543200e-02 -4.74922879e-02\n",
      "  -6.83246291e-02  1.83778843e-02 -1.59193180e-01 -2.16987467e-01\n",
      "  -1.82696459e-01 -1.30959636e-01]\n",
      " [ 1.21031826e-01 -4.25207353e-02 -2.73727519e-01 -8.57652116e-02\n",
      "  -1.65012339e-02 -1.65907249e-01  7.22369793e-01 -7.20211285e-02\n",
      "   2.65095309e-01 -1.16017159e-01]\n",
      " [-2.74920640e-02 -6.82534342e-02 -8.02626351e-02 -6.53321454e-02\n",
      "  -3.96635623e-01  4.69941928e-01 -1.27621295e-01  6.01501658e-01\n",
      "   3.07849987e-01  1.01585389e-02]\n",
      " [ 2.26738513e-02 -7.11092802e-03 -1.44833920e-02 -2.02829551e-02\n",
      "  -1.80878334e-03  1.77769691e-03 -1.74793870e-02 -2.02478009e-04\n",
      "  -1.83189815e-02  1.25814411e-02]\n",
      " [ 8.47629526e-02 -2.51649713e-02 -6.67863430e-02 -1.48022696e-01\n",
      "   3.39399366e-02 -6.12929036e-02 -2.85341861e-01  1.86557645e-02\n",
      "  -2.33108572e-01  1.32435348e-01]\n",
      " [-1.64541130e-05  1.57613143e-04  3.79599915e-05 -1.94124957e-05\n",
      "   1.05804230e-04  1.74984749e-05 -6.34817298e-05 -1.02187853e-05\n",
      "   3.43494739e-05 -9.21019709e-05]\n",
      " [-2.50173000e-05  2.60594158e-04  5.80178559e-05 -3.01437458e-05\n",
      "   1.60995237e-04  6.08820090e-05 -1.18394837e-04 -5.40912044e-05\n",
      "   7.43347803e-05 -1.69542446e-04]\n",
      " [ 7.23928063e-05  1.49328418e-03 -1.71794960e-04  4.64799536e-04\n",
      "   3.66598536e-04  2.31734612e-03 -3.97958100e-04 -1.00218868e-03\n",
      "  -4.55288549e-04 -6.09869957e-04]\n",
      " [ 1.92775453e-01 -1.82142502e-01  5.59647245e-01  6.84415434e-01\n",
      "   7.41967065e-02 -5.46247939e-02  2.23679570e-02  4.28370108e-02\n",
      "   1.02365343e-01 -5.19850738e-02]\n",
      " [-1.99336155e-02 -2.65385013e-02 -3.65921723e-02  4.19913184e-03\n",
      "  -2.78105470e-02  2.24871078e-03 -4.58848098e-02 -6.71312090e-02\n",
      "  -3.46988498e-02 -2.68702377e-02]\n",
      " [-2.01442695e-03  4.21485054e-02  4.78337001e-03  1.77374869e-03\n",
      "   2.81248755e-02  3.50315881e-02 -1.40245427e-02 -1.13524930e-02\n",
      "  -1.85500612e-03 -2.52162776e-02]\n",
      " [-4.62650389e-02 -3.65237059e-02 -1.33093186e-02 -6.67658763e-04\n",
      "  -4.43174570e-02  1.49155544e-02  8.47849243e-02 -5.81011702e-02\n",
      "  -7.22295584e-02  2.73249188e-02]\n",
      " [ 2.46995236e-02 -1.02283420e-02 -2.61197762e-02 -2.12958529e-02\n",
      "  -1.09182650e-02  9.27246582e-03 -5.08112317e-02 -2.79564085e-02\n",
      "  -9.70732593e-03 -7.08027667e-03]\n",
      " [ 6.08094566e-05 -1.84935976e-05 -6.03481567e-05  3.59481959e-05\n",
      "  -2.81340565e-06 -4.13058179e-06 -1.27688510e-04 -3.47032167e-05\n",
      "   2.79093044e-06 -2.26235026e-05]\n",
      " [ 4.57451882e-03  1.70454287e-03  6.95188119e-05 -1.15370414e-02\n",
      "  -1.66466784e-03  9.79778340e-03 -7.40100184e-03 -1.04903852e-02\n",
      "  -2.31093190e-03 -4.16629809e-03]\n",
      " [ 2.42447499e-02 -3.22458286e-02 -3.11296264e-02 -9.12652770e-02\n",
      "  -6.07295467e-02  3.34094342e-02 -1.72568677e-01 -1.93825109e-01\n",
      "  -5.81539591e-02 -1.02947133e-01]\n",
      " [-1.07125334e-06  1.03854482e-02 -2.88704638e-04  2.10218751e-03\n",
      "   3.18170067e-03  1.23884027e-02 -5.10002639e-03 -5.52855027e-03\n",
      "   5.59868114e-05 -4.99743949e-03]\n",
      " [-2.94491555e-03  2.67601237e-03  2.39008632e-03 -3.97055369e-03\n",
      "   3.92675960e-03  2.36556435e-03 -2.04648070e-03 -2.69581444e-03\n",
      "   1.94110378e-03 -1.60917535e-03]\n",
      " [-6.88827103e-03  5.31423149e-03 -8.70615510e-04  7.27630691e-04\n",
      "  -6.67706922e-04  1.11367487e-02 -4.19163051e-03 -1.46355755e-02\n",
      "   5.67252946e-04 -9.60652791e-03]\n",
      " [-8.91941700e-04 -6.59265638e-04  7.77167738e-04 -1.17965965e-03\n",
      "  -5.15338993e-04  4.30211858e-04  5.68654791e-04 -1.07716604e-03\n",
      "  -3.59416167e-04 -1.62354048e-04]\n",
      " [-1.27134538e-02  2.94126015e-02  1.37284907e-02 -2.16679509e-02\n",
      "   6.31927699e-02  1.85342325e-02 -8.17013397e-03  1.55970562e-02\n",
      "   1.05287063e-02  1.47166063e-02]\n",
      " [-4.26760273e-02  4.44726176e-02  4.12461692e-02 -8.36057061e-02\n",
      "   1.99130933e-01  1.63789199e-01 -1.44776013e-01 -4.37163545e-01\n",
      "   6.68987726e-01  1.07599423e-01]\n",
      " [-1.85714723e-02 -4.12556318e-03 -8.78866731e-04 -5.38619297e-03\n",
      "   1.80269735e-02 -4.24976785e-03  8.44855170e-03  6.78825215e-03\n",
      "  -8.91290595e-03  2.06613280e-02]\n",
      " [-1.63897715e-05  1.61232584e-04 -2.60790928e-04 -4.50811566e-04\n",
      "   2.20401509e-03 -6.48766228e-04 -7.49103348e-04  1.87472515e-03\n",
      "   9.74183065e-04  1.75255043e-03]\n",
      " [-5.20408988e-03 -3.25947796e-03 -1.73420197e-03 -5.96023560e-04\n",
      "  -1.81261679e-03 -2.46388040e-03 -8.65484685e-04 -3.78944432e-03\n",
      "  -1.38031456e-03 -2.62228028e-03]\n",
      " [-1.30812068e-03 -7.61435472e-04  3.91528715e-04 -8.52921287e-04\n",
      "   3.20736982e-04 -1.31598542e-03  1.23861297e-03  6.15225454e-04\n",
      "  -1.11142114e-03  5.08372194e-04]\n",
      " [-9.64875545e-04 -9.06541840e-04  1.05581604e-03 -1.08270527e-03\n",
      "  -9.65470493e-04  8.10217511e-04  1.34782502e-03 -9.64252237e-04\n",
      "  -1.05928809e-03  6.27963783e-04]\n",
      " [-1.39943330e-02  2.94592102e-01  1.02698827e-01  3.24070987e-02\n",
      "  -6.13617276e-01 -4.63766468e-01 -2.30380270e-02  1.99807436e-02\n",
      "   3.07251843e-02  6.34347186e-02]\n",
      " [ 2.03386326e-03  1.34511972e-01 -4.47156436e-02  1.06150339e-01\n",
      "   1.81598999e-01  4.87580829e-01  2.01644089e-01 -4.79783262e-02\n",
      "  -3.80758609e-01 -2.14134149e-02]\n",
      " [-3.37796208e-02 -2.27367549e-02 -7.04967376e-03 -6.09475125e-03\n",
      "  -7.76760619e-03 -1.69422444e-02  2.56032646e-03 -2.85669238e-02\n",
      "  -2.44034564e-02 -5.72364196e-03]\n",
      " [-7.29413389e-02 -4.68465275e-02 -1.14253868e-02 -4.33802459e-02\n",
      "   2.54322271e-02 -1.04169621e-01 -2.88773631e-02 -1.37091798e-01\n",
      "  -1.81019728e-01  3.20955111e-02]\n",
      " [-6.39098605e-02 -4.39897472e-02 -1.20544340e-02 -1.47664315e-02\n",
      "  -1.16668073e-02 -4.36839811e-02  1.10380329e-01 -5.37825706e-02\n",
      "  -1.22072177e-01  1.54160924e-01]\n",
      " [-2.70088535e-03 -1.68109508e-03  2.63068166e-04 -1.55011088e-03\n",
      "   6.63845750e-06 -2.20388672e-03  6.20849412e-04 -5.57364526e-04\n",
      "  -1.96837196e-03 -5.19812074e-04]\n",
      " [-6.68541650e-03  1.87876553e-03 -2.17965018e-03 -7.27232252e-04\n",
      "   9.23999410e-03 -3.77342466e-03 -3.52136536e-03  4.81202227e-04\n",
      "   1.87585833e-03 -5.81016763e-04]\n",
      " [-1.01466066e-03 -5.03132255e-04 -2.86379197e-05 -5.09503499e-04\n",
      "   7.01465386e-04 -1.66436341e-03  4.24742232e-04  8.04309874e-04\n",
      "  -8.91095584e-04  1.19239484e-04]\n",
      " [-9.81812538e-04  4.22545530e-03 -2.15640491e-03  3.16430527e-03\n",
      "   4.65600223e-03  7.08953470e-06 -1.77088481e-03  9.83033651e-04\n",
      "   1.01092557e-03 -1.02366274e-03]\n",
      " [-5.74144301e-02  1.97637889e-02  3.62903004e-02 -9.62858689e-02\n",
      "   2.77123524e-01 -1.55409650e-01 -3.16031721e-02  3.18887165e-01\n",
      "   1.43759696e-02 -7.26937578e-01]\n",
      " [-5.44949195e-02  8.15136039e-03 -3.68590776e-02  2.22409312e-02\n",
      "   1.82783665e-01 -1.13380872e-01  5.11108915e-02  2.08978448e-01\n",
      "  -4.32122620e-02  5.03460165e-01]\n",
      " [-3.04179882e-02  1.03563472e-02  8.54613391e-03 -4.38784630e-02\n",
      "   1.65434795e-01 -1.07299599e-01 -1.45191138e-02  1.64917080e-01\n",
      "   1.38057403e-02  1.36513897e-01]]\n",
      "\n",
      " First 10 singular values \n",
      "[365.49238651 329.65961057 203.90720415 180.2203662  149.10346491\n",
      " 143.40556552 135.32552087 130.46453503 128.2728604  122.55008736]\n",
      "\n",
      " Explained Variance Ratio\n",
      "[0.22027368 0.17919976 0.06856004 0.05355668 0.03665907 0.03391079\n",
      " 0.03019711 0.02806667 0.02713161 0.02476471]\n",
      "\n",
      " Accumulated Explained Variance Ratio\n",
      "[0.22027368 0.39947344 0.46803348 0.52159016 0.55824923 0.59216002\n",
      " 0.62235713 0.6504238  0.6775554  0.70232011]\n"
     ]
    }
   ],
   "source": [
    "# X_proy, pca = our.our_PCA(X)\n",
    "# num_of_pc = len(pca.singular_values_)\n",
    "# strTitle = '\\n First %d principal components' %(num_of_pc)\n",
    "# print(strTitle)\n",
    "# print(pca.components_.T)\n",
    "# strTitle = '\\n First %d singular values ' %(num_of_pc)\n",
    "# print(strTitle)\n",
    "# print(pca.singular_values_.T)\n",
    "# strTitle = '\\n Explained Variance Ratio'\n",
    "# print(strTitle)\n",
    "# print(pca.explained_variance_ratio_.T)\n",
    "# strTitle = '\\n Accumulated Explained Variance Ratio'\n",
    "# print(strTitle)\n",
    "# print(np.cumsum(pca.explained_variance_ratio_.T))\n",
    "# X = X_proy"
   ]
  },
  {
   "cell_type": "markdown",
   "metadata": {},
   "source": [
    "## Multiclass. OvO vs OvR"
   ]
  },
  {
   "cell_type": "code",
   "execution_count": 12,
   "metadata": {
    "pycharm": {
     "is_executing": true,
     "name": "#%%\n"
    }
   },
   "outputs": [
    {
     "name": "stdout",
     "output_type": "stream",
     "text": [
      "(7, 54)\n"
     ]
    },
    {
     "data": {
      "text/plain": [
       "GaussianMixture(covariance_type='diag',\n",
       "                means_init=array([[6.34711767e-01, 4.32562470e-01, 2.12072153e-01, 1.94681638e-01,\n",
       "        2.64124454e-01, 3.66540639e-01, 8.35169777e-01, 8.53266758e-01,\n",
       "        5.65369109e-01, 2.80584682e-01, 4.98588069e-01, 8.66351924e-02,\n",
       "        4.14776738e-01, 0.00000000e+00, 0.00000000e+00, 0.00000000e+00,\n",
       "        0.00000000e+00, 8.38333922e-04, 0.00000000e+00, 0.00000...\n",
       "        0.00000000e+00, 0.00000000e+00, 3.45429247e-04, 7.19202259e-03,\n",
       "        2.89445817e-02, 1.04571126e-02, 0.00000000e+00, 0.00000000e+00,\n",
       "        1.40602560e-03, 0.00000000e+00, 4.58877515e-02, 6.90522414e-03,\n",
       "        1.21337804e-02, 4.26065506e-02, 3.22181479e-02, 3.46364278e-03,\n",
       "        3.83492373e-02, 3.92693258e-03, 1.38545711e-02, 2.95812094e-01,\n",
       "        2.72899753e-01, 1.79615011e-01]]),\n",
       "                n_components=7, random_state=42, tol=0.1)"
      ]
     },
     "execution_count": 12,
     "metadata": {},
     "output_type": "execute_result"
    }
   ],
   "source": [
    "# Multiclass\n",
    "from sklearn.multiclass import OneVsOneClassifier\n",
    "from sklearn.multiclass import OneVsRestClassifier\n",
    "from sklearn.svm import SVC\n",
    "from sklearn.tree import DecisionTreeClassifier\n",
    "from sklearn.mixture import GaussianMixture\n",
    "'''\n",
    "N_components = 3    #<-- number of Gaussian components\n",
    "cov_type = 'full'   #<-- choices are:  ‘full’ , ‘tied’ , ‘diag’ , ‘spherical’\n",
    "init_params='random'#<-- every time begins at a different point\n",
    "max_iter=1000       #<-- number of iterations before stop (if not convergence)\n",
    "\n",
    "gmm_1 = GaussianMixture(n_components=N_components, \\\n",
    "                        covariance_type=cov_type, init_params=init_params, max_iter=max_iter)\n",
    "gmm_2 = GaussianMixture(n_components=N_components, \\\n",
    "                        covariance_type=cov_type, init_params=init_params, max_iter=max_iter)\n",
    "gmm_3 = GaussianMixture(n_components=N_components, \\\n",
    "                        covariance_type=cov_type, init_params=init_params, max_iter=max_iter)\n",
    "gmm_4 = GaussianMixture(n_components=N_components, \\\n",
    "                        covariance_type=cov_type, init_params=init_params, max_iter=max_iter)\n",
    "gmm_5 = GaussianMixture(n_components=N_components, \\\n",
    "                        covariance_type=cov_type, init_params=init_params, max_iter=max_iter)\n",
    "gmm_6 = GaussianMixture(n_components=N_components, \\\n",
    "                        covariance_type=cov_type, init_params=init_params, max_iter=max_iter)\n",
    "gmm_7 = GaussianMixture(n_components=N_components, \\\n",
    "                        covariance_type=cov_type, init_params=init_params, max_iter=max_iter)\n",
    "\n",
    "X = X_proy\n",
    "# Train OvO\n",
    "ind = np.where(Y==1)\n",
    "X_1 = X[ind]\n",
    "Y_1 = Y[ind]\n",
    "print(ind[0].shape)\n",
    "gmm_1.fit(X_1, Y_1)\n",
    "\n",
    "ind = np.where(Y==2)\n",
    "X_2 = X[ind]\n",
    "Y_2 = Y[ind]\n",
    "print(ind[0].shape)\n",
    "gmm_2.fit(X_2, Y_2)\n",
    "\n",
    "ind = np.where(Y==3)\n",
    "X_3 = X[ind]\n",
    "Y_3 = Y[ind]\n",
    "print(ind[0].shape)\n",
    "gmm_3.fit(X_3, Y_3)\n",
    "\n",
    "ind = np.where(Y==4)\n",
    "X_4 = X[ind]\n",
    "Y_4 = Y[ind]\n",
    "print(ind[0].shape)\n",
    "gmm_4.fit(X_4, Y_4)\n",
    "\n",
    "ind = np.where(Y==5)\n",
    "X_5 = X[ind]\n",
    "Y_5 = Y[ind]\n",
    "print(ind[0].shape)\n",
    "gmm_5.fit(X_5, Y_5)\n",
    "\n",
    "ind = np.where(Y==6)\n",
    "X_6 = X[ind]\n",
    "Y_6 = Y[ind]\n",
    "print(ind[0].shape)\n",
    "gmm_6.fit(X_6, Y_6)\n",
    "\n",
    "ind = np.where(Y==7)\n",
    "X_7 = X[ind]\n",
    "Y_7 = Y[ind]\n",
    "print(ind[0].shape)\n",
    "gmm_7.fit(X_7, Y_7)\n",
    "'''\n",
    "\n",
    "classifier = GaussianMixture(n_components = 7 ,covariance_type='diag',max_iter=100,random_state = 42,tol=0.1,n_init = 1)\n",
    "means = np.array([X[Y == i].mean(axis=0) \n",
    "                                for i in range(1,8)]) \n",
    "print(means.shape)\n",
    "classifier.means_init = np.array([X[Y == i].mean(axis=0) \n",
    "                                for i in range(1,8)]) \n",
    "classifier.fit(X)\n"
   ]
  },
  {
   "cell_type": "markdown",
   "metadata": {},
   "source": [
    "## Validation"
   ]
  },
  {
   "cell_type": "code",
   "execution_count": 16,
   "metadata": {
    "pycharm": {
     "name": "#%%\n"
    }
   },
   "outputs": [
    {
     "name": "stdout",
     "output_type": "stream",
     "text": [
      "train accuracy: 19.762488705305277\n"
     ]
    }
   ],
   "source": [
    "'''# Feature engineering, selection and rescaling to [0,1]\n",
    "X_pred = scaler.transform(X_valid)\n",
    "# PCA\n",
    "X_pred = pca.transform(X_pred)\n",
    "Y_true = Y_valid.values.ravel()\n",
    "\n",
    "# predict\n",
    "\n",
    "y_score1 = np.exp(gmm_1.score_samples(X_pred))\n",
    "y_score2 = np.exp(gmm_2.score_samples(X_pred))\n",
    "y_score3 = np.exp(gmm_3.score_samples(X_pred))\n",
    "y_score4 = np.exp(gmm_4.score_samples(X_pred))\n",
    "y_score5 = np.exp(gmm_5.score_samples(X_pred))\n",
    "y_score6 = np.exp(gmm_6.score_samples(X_pred))\n",
    "y_score7 = np.exp(gmm_7.score_samples(X_pred))\n",
    "\n",
    "y_scores = np.vstack([y_score1, y_score2, y_score3, y_score4, y_score5, y_score6, y_score7])\n",
    "print(y_scores.shape)\n",
    "y_hat = np.where(y_scores==np.max(y_scores, axis=0))\n",
    "y_hat = y_hat[0] + 1\n",
    "# print(y_hat[10000:100010], y_hat.shape)\n",
    "# print(\"=====\")\n",
    "# print(y_score1[0], y_score1.shape)\n",
    "# print(y_score2[0], y_score2.shape)\n",
    "# print(y_score3[0], y_score3.shape)\n",
    "# print(y_score4[0], y_score4.shape)\n",
    "# print(y_score5[0], y_score5.shape)\n",
    "# print(y_score6[0], y_score6.shape)\n",
    "# print(y_score7[0], y_score7.shape)\n",
    "\n",
    "'''\n",
    "Y_true = Y_valid.values.ravel()\n",
    "X_pred = classifier.predict(X_valid)\n",
    "train_accuracy = np.mean(X_pred.ravel() == Y_true)*100\n",
    "print('train accuracy:',train_accuracy)\n",
    "\n"
   ]
  },
  {
   "cell_type": "markdown",
   "metadata": {},
   "source": [
    "## Confusion Matrix\n",
    "\n",
    "To check the performance of our model, we use Confusion Matrix as metric. This give us a general idea of how good is the model and let us compare it with the multiple combinations of feature that we have available."
   ]
  },
  {
   "cell_type": "code",
   "execution_count": 17,
   "metadata": {
    "pycharm": {
     "name": "#%%\n"
    }
   },
   "outputs": [
    {
     "name": "stdout",
     "output_type": "stream",
     "text": [
      "\n",
      "Confusion matrix:\n",
      "\n",
      "[[3959    0    0    0    0 4515    0]\n",
      " [5074    0    0    0    0 6258    0]\n",
      " [  72    0    0    0    0 1358    0]\n",
      " [   0    0    0    0    0  110    0]\n",
      " [  50    0    0    0    0  330    0]\n",
      " [  61    0    0    0    0  634    0]\n",
      " [ 346    0    0    0    0  474    0]]\n",
      "\n",
      "\n",
      "OvO Hits  = 4593\n",
      "OvO Fails = 18648\n",
      "OvO Accuracy = 0.197625\n"
     ]
    }
   ],
   "source": [
    "# Performance metrics\n",
    "\n",
    "from sklearn.metrics import confusion_matrix, precision_recall_fscore_support\n",
    "\n",
    "conf_mat = confusion_matrix(Y_true, X_pred)\n",
    "hits = np.trace(conf_mat)\n",
    "\n",
    "# Print out\n",
    "print(\"\\nConfusion matrix:\\n\")\n",
    "print(conf_mat)\n",
    "print(\"\\n\")\n",
    "print( \"OvO Hits  = %d\"%(hits) ) \n",
    "print( \"OvO Fails = %d\"%(Y_true.shape[0]-hits) )\n",
    "print( \"OvO Accuracy = %f\"%(hits/(Y_true.shape[0])))\n"
   ]
  }
 ],
 "metadata": {
  "interpreter": {
   "hash": "31f2aee4e71d21fbe5cf8b01ff0e069b9275f58929596ceb00d14d90e3e16cd6"
  },
  "kernelspec": {
   "display_name": "Python 3 (ipykernel)",
   "language": "python",
   "name": "python3"
  },
  "language_info": {
   "codemirror_mode": {
    "name": "ipython",
    "version": 3
   },
   "file_extension": ".py",
   "mimetype": "text/x-python",
   "name": "python",
   "nbconvert_exporter": "python",
   "pygments_lexer": "ipython3",
   "version": "3.6.9"
  }
 },
 "nbformat": 4,
 "nbformat_minor": 1
}

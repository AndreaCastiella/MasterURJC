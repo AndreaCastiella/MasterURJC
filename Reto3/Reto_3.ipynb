{
 "cells": [
  {
   "cell_type": "markdown",
   "metadata": {
    "collapsed": true,
    "pycharm": {
     "name": "#%% md\n"
    }
   },
   "source": [
    "# Reto 3\n",
    "\n",
    "## Miguel Ortiz y Andrea Castiella\n"
   ]
  },
  {
   "cell_type": "code",
   "execution_count": 1,
   "metadata": {
    "pycharm": {
     "name": "#%%\n"
    }
   },
   "outputs": [],
   "source": [
    "import numpy  as np\n",
    "import pandas as pd\n",
    "import OurUtils as our\n",
    "from sklearn.preprocessing import MinMaxScaler"
   ]
  },
  {
   "cell_type": "code",
   "execution_count": 2,
   "metadata": {
    "pycharm": {
     "name": "#%%\n"
    }
   },
   "outputs": [
    {
     "name": "stdout",
     "output_type": "stream",
     "text": [
      "   altitud  azimut  inclinacion  DH_agua  DV_agua  DH_camino  sombra_9am  \\\n",
      "0     3351     354           19      450       95       1064         185   \n",
      "1     2995      84            7      481       30       5154         231   \n",
      "2     2884      72           25      210      -45        466         239   \n",
      "3     3139      76           11      301       58       1368         234   \n",
      "4     3018     312           17       30       10       1719         172   \n",
      "\n",
      "   sombra_12pm  sombra_3pm  DH_fuego  ...  t31  t32  t33  t34  t35  t36  t37  \\\n",
      "0          203         153       711  ...    0    0    0    0    0    0    0   \n",
      "1          227         129      5488  ...    0    0    0    0    0    0    0   \n",
      "2          183          60      2123  ...    0    0    0    0    0    0    0   \n",
      "3          220         117      3282  ...    0    0    1    0    0    0    0   \n",
      "4          225         193      1961  ...    0    0    0    0    0    0    0   \n",
      "\n",
      "   t38  t39  t40  \n",
      "0    0    1    0  \n",
      "1    0    0    0  \n",
      "2    0    0    0  \n",
      "3    0    0    0  \n",
      "4    0    0    0  \n",
      "\n",
      "[5 rows x 54 columns]\n",
      "   tipo_bosque\n",
      "0            1\n",
      "1            2\n",
      "2            2\n",
      "3            1\n",
      "4            1\n"
     ]
    }
   ],
   "source": [
    "# Read data\n",
    "X_full = pd.read_csv('Reto 3-Dataset/reto3_trainX.csv', header=0, low_memory=False)\n",
    "Y_full = pd.read_csv('Reto 3-Dataset/reto3_trainY.csv', header=0, low_memory=False)\n",
    "\n",
    "print(X_full.head())\n",
    "print(Y_full.head())"
   ]
  },
  {
   "cell_type": "markdown",
   "metadata": {},
   "source": [
    "## Split dataset\n",
    "Train split: 80%\n",
    "\n",
    "Validation split: 20%"
   ]
  },
  {
   "cell_type": "code",
   "execution_count": 3,
   "metadata": {
    "pycharm": {
     "name": "#%%\n"
    }
   },
   "outputs": [],
   "source": [
    "# Split into train and validation\n",
    "valid_size = 0.2\n",
    "seed = 1234\n",
    "X_train, Y_train, X_valid, Y_valid = \\\n",
    "   our.single_stratified_split(X_full, Y_full, test_size=valid_size, random_state=seed)"
   ]
  },
  {
   "cell_type": "markdown",
   "metadata": {},
   "source": [
    "## Feature selection"
   ]
  },
  {
   "cell_type": "code",
   "execution_count": 4,
   "metadata": {
    "pycharm": {
     "name": "#%%\n"
    }
   },
   "outputs": [],
   "source": [
    "scaler = MinMaxScaler()\n",
    "X = scaler.fit_transform(X_train)\n",
    "Y = Y_train.values.ravel() # Returns data as numpy array"
   ]
  },
  {
   "cell_type": "markdown",
   "source": [
    "##PCA"
   ],
   "metadata": {
    "collapsed": false
   }
  },
  {
   "cell_type": "code",
   "execution_count": 5,
   "outputs": [
    {
     "name": "stdout",
     "output_type": "stream",
     "text": [
      "(92961, 9)\n",
      "\n",
      " First 9 principal components\n",
      "[[ 1.14232061e-02 -1.66662092e-01 -1.53569339e-01 -1.34148739e-01\n",
      "   4.33027047e-03  4.39481469e-02  2.00748534e-01  6.86155830e-02\n",
      "  -4.13646495e-02]\n",
      " [-5.98923150e-02  1.07265622e-01  2.97571677e-01 -8.00264585e-01\n",
      "  -1.52812681e-01 -1.81846760e-01 -5.47562516e-02 -4.60894248e-02\n",
      "   1.56966747e-03]\n",
      " [-3.23421744e-02  4.91748061e-02  1.12116218e-01  6.47103895e-02\n",
      "  -1.71554670e-02 -1.11661847e-01  1.30713961e-02 -1.89385804e-02\n",
      "  -1.09111019e-01]\n",
      " [-2.33723778e-02 -7.79749920e-02  1.07434631e-02 -2.04892310e-02\n",
      "  -6.73199664e-02  1.58267194e-02  1.12955914e-01 -3.18731603e-02\n",
      "   7.83717572e-02]\n",
      " [-1.91150211e-02 -7.65252329e-03  3.39197427e-02  3.92915976e-03\n",
      "  -3.50735633e-02 -2.45541476e-02  3.29858512e-02 -2.47711139e-02\n",
      "   3.78967154e-03]\n",
      " [ 1.25352760e-01 -2.08090141e-01 -7.55076272e-02 -1.52650390e-01\n",
      "  -8.72560007e-02 -8.95778512e-02 -8.72104223e-02  3.58418734e-02\n",
      "   2.55775643e-04]\n",
      " [ 2.62534617e-02 -4.81002300e-02 -1.09479136e-01  1.58890016e-01\n",
      "   2.49489385e-02  6.76755295e-02  2.88512810e-02 -4.12906041e-05\n",
      "  -1.89818883e-02]\n",
      " [-1.37800584e-03 -3.02716038e-02 -3.07757711e-02 -1.44802402e-01\n",
      "  -2.06028761e-02  2.33997999e-02 -9.61730035e-03  1.57991142e-03\n",
      "   4.68391105e-02]\n",
      " [-2.59582539e-02  2.01656029e-02  8.32414644e-02 -3.24497046e-01\n",
      "  -4.32062279e-02 -3.83060309e-02 -4.35394779e-02  7.63351086e-03\n",
      "   8.54014710e-02]\n",
      " [ 9.63629006e-02 -9.12021083e-02 -1.03856027e-01 -6.74307240e-03\n",
      "  -7.51597218e-02 -1.80660800e-02  5.79148981e-02 -5.70070208e-02\n",
      "   2.45856898e-01]\n",
      " [ 6.46379409e-01 -1.56908223e-01 -2.24247118e-01 -5.47768921e-02\n",
      "  -1.79947299e-01 -1.06740113e-01 -2.10743105e-01 -6.17427020e-02\n",
      "  -7.26502084e-02]\n",
      " [-1.25148825e-02  1.90425361e-01 -5.95420534e-02 -1.02950442e-01\n",
      "   1.41784777e-01  1.84515863e-01  6.08271843e-01  8.96475628e-02\n",
      "   8.44921398e-02]\n",
      " [-6.13395533e-01 -4.79412571e-01 -6.78424332e-02  1.25078609e-02\n",
      "   1.53687100e-02 -1.15984923e-01 -2.62349865e-01  7.71028669e-02\n",
      "  -1.39452847e-02]\n",
      " [-2.04689940e-02  4.45895432e-01  3.51631604e-01  1.45219473e-01\n",
      "   2.27938120e-02  3.82091734e-02 -1.35178872e-01 -1.05007728e-01\n",
      "   2.10335324e-03]\n",
      " [-1.42239106e-03  3.36310539e-02  2.28339281e-02  1.81258075e-02\n",
      "   3.27586159e-03  5.74293050e-03 -2.46702644e-03 -8.79234305e-03\n",
      "  -2.34956518e-03]\n",
      " [-1.34788651e-02  1.84855290e-02  1.88216527e-02  2.01178311e-02\n",
      "   4.23206108e-03 -8.35437847e-04 -2.07287104e-02  1.33284944e-02\n",
      "   5.10635580e-03]\n",
      " [-6.29409448e-03  2.47087549e-02  1.94233544e-02  1.93353457e-02\n",
      "   3.68879739e-03  1.72227535e-03 -8.89785449e-03  1.86057229e-04\n",
      "  -3.10619657e-03]\n",
      " [-2.67148540e-02  3.17422203e-03  2.02010313e-02  1.96102630e-02\n",
      "   3.15728900e-03 -1.95333963e-02 -4.65204079e-02  4.34887466e-02\n",
      "   2.00160032e-03]\n",
      " [-7.83077112e-04  1.72246306e-02  1.25114708e-02  6.36253032e-03\n",
      "   9.05641687e-04  2.03476405e-03 -1.45510036e-03 -4.60229570e-03\n",
      "  -2.61348846e-04]\n",
      " [-2.88696275e-03  7.05673343e-02  4.88613592e-02  2.54980401e-02\n",
      "   4.09303832e-03  1.38588923e-02 -2.59365553e-03 -1.92171288e-02\n",
      "   5.19530691e-03]\n",
      " [ 2.39551408e-04  5.04347943e-05 -4.41298172e-04 -1.20377299e-05\n",
      "  -5.25132274e-04 -1.27161105e-04 -1.14514819e-04 -9.02219832e-05\n",
      "   3.38175008e-04]\n",
      " [ 3.57453385e-04  1.00685591e-04 -6.55081902e-04 -3.05028946e-05\n",
      "  -7.55624923e-04 -1.79868708e-04 -2.22551683e-04 -1.09569971e-04\n",
      "   4.23464893e-04]\n",
      " [ 2.11113306e-03  3.33693479e-03 -2.86459764e-03  2.90077765e-03\n",
      "  -3.25734814e-03 -8.11063592e-05 -2.06880431e-03 -8.37329642e-04\n",
      "  -2.28754608e-03]\n",
      " [-4.73004847e-02  2.67095335e-01  2.66388739e-01  1.28753157e-01\n",
      "   2.16783800e-02 -1.96458301e-02 -2.44977349e-01 -1.66081702e-02\n",
      "  -3.25168156e-03]\n",
      " [-2.82697433e-02 -1.34650729e-02 -2.70759539e-03  5.31132189e-02\n",
      "   1.21810226e-02 -5.26389093e-03 -3.96995884e-02  5.72544918e-02\n",
      "   1.62142292e-02]\n",
      " [ 6.48101087e-02  6.60687482e-02 -1.64921401e-01  4.88064570e-02\n",
      "  -2.71489284e-01 -5.29535240e-02 -9.78891676e-02 -1.63349257e-01\n",
      "   6.84762273e-01]\n",
      " [-4.05639317e-02 -2.43199009e-02  1.79381539e-02 -1.22856309e-02\n",
      "  -5.03580579e-03 -4.69344274e-02 -6.01831769e-02  1.00409634e-01\n",
      "   4.43797909e-03]\n",
      " [-8.16994992e-04  4.43299370e-03  3.37936332e-03  1.91691788e-03\n",
      "   5.56125440e-04  3.76541010e-04 -1.70969182e-03 -2.42977459e-04\n",
      "  -5.31666309e-05]\n",
      " [-2.42298004e-06  6.40091002e-05  3.47608911e-05  5.44233484e-05\n",
      "   1.35952512e-05  2.13428873e-05 -6.52069562e-06 -1.24372367e-05\n",
      "   3.35806119e-07]\n",
      " [ 3.30210658e-03  6.47819786e-03 -4.39120079e-03 -4.39891614e-05\n",
      "  -8.36321756e-03 -2.13832959e-03 -2.83200369e-03 -1.04416347e-03\n",
      "   4.00163856e-03]\n",
      " [-5.94482433e-03  5.14987760e-03  5.74675278e-03  5.72724023e-03\n",
      "   1.54730301e-03 -1.24559272e-03 -9.41826181e-03  6.49485967e-03\n",
      "   3.81080918e-03]\n",
      " [ 3.80140281e-03  4.63839279e-03 -6.40022149e-03  4.67768703e-03\n",
      "  -7.00331972e-03 -1.62519019e-04 -8.02787561e-04 -2.97775322e-03\n",
      "   5.46036200e-03]\n",
      " [ 3.74943313e-03  5.08786676e-03 -9.69014224e-03 -3.25153090e-03\n",
      "  -1.00196983e-02 -7.15598473e-04  5.87159132e-03  4.96711392e-03\n",
      "   2.74090854e-03]\n",
      " [ 8.57223271e-03  5.28844838e-03 -2.63868631e-02  5.39474924e-03\n",
      "  -3.20861008e-02 -1.16024813e-02 -1.95395892e-02  4.79073407e-03\n",
      "   1.34451637e-02]\n",
      " [-1.83505221e-03 -9.14922044e-04  9.01193684e-04 -2.98165938e-03\n",
      "  -4.05833049e-04 -1.68939814e-03 -2.36489873e-03  2.72768362e-03\n",
      "   3.56944097e-04]\n",
      " [ 1.86710601e-02  7.23916874e-02 -9.83897426e-02 -6.14507917e-02\n",
      "  -1.77416075e-01 -2.66301471e-02  2.82128641e-01  5.67710950e-01\n",
      "  -1.49727149e-01]\n",
      " [ 4.45769264e-03  1.76569673e-01 -4.56458784e-01 -2.73119045e-01\n",
      "   7.07380950e-01  5.28094986e-02 -2.00252418e-01 -1.49817218e-01\n",
      "  -4.14478878e-02]\n",
      " [-3.32383582e-02 -1.22683861e-02 -7.01157326e-03  1.26724197e-03\n",
      "  -1.61762861e-02 -3.37389454e-02  1.29469237e-02  1.42188434e-01\n",
      "   6.24175001e-02]\n",
      " [-1.42743930e-04  3.02544391e-03 -4.10380311e-04  3.63735277e-04\n",
      "   1.36608114e-03  2.86424782e-03  1.06232538e-02  1.64463636e-03\n",
      "   2.72165795e-03]\n",
      " [-5.42369770e-03 -5.18689356e-03 -1.64709171e-03  3.78168011e-03\n",
      "  -5.38840497e-05 -2.56140345e-03 -5.73663959e-03  8.56767576e-03\n",
      "   4.92703934e-03]\n",
      " [-2.38714117e-03 -2.26953208e-03  9.22498375e-05 -3.94887160e-04\n",
      "  -6.83940767e-04 -1.90579924e-03 -1.35615355e-03  3.43957450e-03\n",
      "   8.22329367e-04]\n",
      " [-2.38846623e-03 -7.05524886e-04  2.07086346e-03 -2.25869900e-03\n",
      "  -7.46832552e-04 -2.70419018e-03 -2.67437121e-03  2.61421528e-03\n",
      "   6.98637805e-04]\n",
      " [ 3.52839392e-01 -4.90188493e-01  5.58466278e-01  2.00124609e-02\n",
      "   3.83683184e-01  1.01535473e-01  6.63262150e-02  2.73662710e-02\n",
      "   1.10434615e-02]\n",
      " [ 6.33217638e-02  7.53252453e-02 -1.40773373e-01  2.52765767e-02\n",
      "  -2.69049881e-01 -8.69617328e-02 -1.09133129e-01 -1.19398317e-01\n",
      "  -6.07702454e-01]\n",
      " [-6.12496115e-02 -5.98426587e-02 -4.53117386e-03  1.86865543e-02\n",
      "   7.27841329e-04 -5.54088697e-02 -9.50351434e-02  3.02292632e-01\n",
      "   1.22979178e-01]\n",
      " [-1.30686647e-01 -1.54759799e-01 -3.47501490e-03 -1.24527787e-01\n",
      "  -2.65307887e-01  7.49056683e-01  4.14591362e-02 -3.76064477e-01\n",
      "  -1.00223676e-01]\n",
      " [-1.11664732e-01 -1.14410835e-01  1.31466928e-02  8.41200078e-02\n",
      "   1.48417396e-02 -5.32024606e-01  4.44050174e-01 -5.45362459e-01\n",
      "  -6.86737980e-02]\n",
      " [-3.85011617e-03 -3.35160314e-03  3.10617377e-04 -1.01511546e-03\n",
      "  -8.12876656e-04 -2.46978273e-03 -3.28893439e-03  5.79054178e-03\n",
      "   1.50160283e-03]\n",
      " [-3.91442083e-04  1.40608280e-03 -3.69223448e-03  2.27512540e-03\n",
      "  -5.75718407e-04  1.97047477e-03  7.78293056e-03  4.52139496e-03\n",
      "   1.51762453e-03]\n",
      " [-2.89195643e-04 -3.53696945e-04 -4.68728219e-05 -1.15891247e-04\n",
      "  -1.03347308e-04 -1.75694445e-04 -8.38003767e-05  4.63122021e-04\n",
      "   9.30409449e-05]\n",
      " [ 3.75516882e-04  6.28561316e-06 -1.21444294e-03  1.08746871e-03\n",
      "  -7.01250145e-04 -4.90272153e-05 -1.34136169e-05  3.01476159e-04\n",
      "  -3.91709574e-04]\n",
      " [ 4.28711155e-04  7.43511122e-03 -3.25400636e-02 -2.41065388e-02\n",
      "  -3.85200925e-02 -7.35858097e-03  4.77760017e-02  5.25236225e-02\n",
      "   1.65563195e-02]\n",
      " [-1.03585115e-03  1.31618627e-03 -2.49211637e-02 -7.37258331e-03\n",
      "  -3.65840507e-02 -1.97353519e-02  1.17816853e-02  3.68381112e-02\n",
      "  -4.99562570e-03]\n",
      " [ 2.02414291e-03  8.97815231e-03 -1.75581492e-02 -4.29860760e-03\n",
      "  -1.76554251e-02  2.83956928e-03  5.13191121e-02  1.86156459e-02\n",
      "   1.08978675e-02]]\n",
      "\n",
      " First 9 singular values \n",
      "[223.90664229 118.2952937  107.23224531 102.60818445  91.43362257\n",
      "  89.27002257  82.65537572  75.66152576  71.02088785]\n",
      "\n",
      " Explained Variance Ratio\n",
      "[0.29894497 0.08344345 0.06856589 0.06278    0.04985046 0.04751914\n",
      " 0.04073798 0.0341356  0.03007665]\n",
      "\n",
      " Accumulated Explained Variance Ratio\n",
      "[0.29894497 0.38238841 0.4509543  0.5137343  0.56358476 0.6111039\n",
      " 0.65184188 0.68597747 0.71605413]\n"
     ]
    }
   ],
   "source": [
    "X_proy, pca = our.our_PCA(X)\n",
    "num_of_pc = len(pca.singular_values_)\n",
    "strTitle = '\\n First %d principal components' %(num_of_pc)\n",
    "print(strTitle)\n",
    "print(pca.components_.T)\n",
    "strTitle = '\\n First %d singular values ' %(num_of_pc)\n",
    "print(strTitle)\n",
    "print(pca.singular_values_.T)\n",
    "strTitle = '\\n Explained Variance Ratio'\n",
    "print(strTitle)\n",
    "print(pca.explained_variance_ratio_.T)\n",
    "strTitle = '\\n Accumulated Explained Variance Ratio'\n",
    "print(strTitle)\n",
    "print(np.cumsum(pca.explained_variance_ratio_.T))"
   ],
   "metadata": {
    "collapsed": false,
    "pycharm": {
     "name": "#%%\n"
    }
   }
  },
  {
   "cell_type": "markdown",
   "metadata": {},
   "source": [
    "## Multiclass. OvO vs OvR"
   ]
  },
  {
   "cell_type": "code",
   "execution_count": null,
   "metadata": {
    "pycharm": {
     "name": "#%%\n",
     "is_executing": true
    }
   },
   "outputs": [],
   "source": [
    "# Multiclass\n",
    "from sklearn.multiclass import OneVsOneClassifier\n",
    "from sklearn.multiclass import OneVsRestClassifier\n",
    "from sklearn.svm import SVC\n",
    "\n",
    "base_clf = SVC(kernel='rbf', degree=2, gamma=1, random_state = seed)\n",
    "X = X_proy\n",
    "# Train OvO \n",
    "OvO_clf = OneVsOneClassifier(base_clf)\n",
    "OvO_clf.fit(X,Y)\n",
    "\n",
    "# Train OvR \n",
    "OvR_clf = OneVsRestClassifier(base_clf)\n",
    "OvR_clf.fit(X,Y)\n",
    "\n",
    "# Check\n",
    "strlog = \"OvO produces %d classifiers\" %(len(OvO_clf.estimators_))\n",
    "print(strlog)\n",
    "strlog = \"OvR produces %d classifiers\" %(len(OvR_clf.estimators_))\n",
    "print(strlog)\n"
   ]
  },
  {
   "cell_type": "markdown",
   "metadata": {},
   "source": [
    "## Validation"
   ]
  },
  {
   "cell_type": "code",
   "execution_count": null,
   "metadata": {
    "pycharm": {
     "name": "#%%\n"
    }
   },
   "outputs": [],
   "source": [
    "# Feature engineering, selection and rescaling to [0,1]\n",
    "X_pred = scaler.transform(X_valid)\n",
    "# PCA\n",
    "X_pred = pca.transform(X_pred)\n",
    "Y_true = Y_valid.values.ravel()\n",
    "\n",
    "# predict\n",
    "Y_pred_OvO = OvO_clf.predict(X_pred)\n",
    "Y_pred_OvR = OvR_clf.predict(X_pred)\n"
   ]
  },
  {
   "cell_type": "markdown",
   "metadata": {},
   "source": [
    "## Confusion Matrix\n",
    "\n",
    "To check the performance of our model, we use Confusion Matrix as metric. This give us a general idea of how good is the model and let us compare it with the multiple combinations of feature that we have available."
   ]
  },
  {
   "cell_type": "code",
   "execution_count": null,
   "metadata": {
    "pycharm": {
     "name": "#%%\n"
    }
   },
   "outputs": [],
   "source": [
    "# Performance metrics\n",
    "\n",
    "from sklearn.metrics import confusion_matrix, precision_recall_fscore_support\n",
    "\n",
    "conf_mat_OvO = confusion_matrix(Y_true,Y_pred_OvO)\n",
    "hits_OvO = np.trace(conf_mat_OvO)\n",
    "conf_mat_OvR = confusion_matrix(Y_true,Y_pred_OvR)\n",
    "hits_OvR = np.trace(conf_mat_OvR)\n",
    "\n",
    "# Print out\n",
    "print(\"\\nOvO confusion matrix:\\n\")\n",
    "print(conf_mat_OvO)\n",
    "print(\"\\n\")\n",
    "print( \"OvO Hits  = %d\"%(hits_OvO) ) \n",
    "print( \"OvO Fails = %d\"%(Y_true.shape[0]-hits_OvO) )\n",
    "print(\"\\nOvR confusion matrix:\\n\")\n",
    "print(conf_mat_OvR)\n",
    "print( \"\\n\")\n",
    "print( \"OvR Hits  = %d\"%(hits_OvR) ) \n",
    "print( \"OvR Fails = %d\"%(Y_true.shape[0]-hits_OvR) )\n"
   ]
  },
  {
   "cell_type": "markdown",
   "metadata": {},
   "source": [
    "## Competition data"
   ]
  },
  {
   "cell_type": "code",
   "execution_count": null,
   "metadata": {},
   "outputs": [],
   "source": [
    "# Load competition data\n",
    "challenge_data = pd.read_csv('Reto 3-Dataset/reto3_testX.csv', header=0)\n",
    "challenge_data = scaler.transform(challenge_data)\n",
    "# PCA\n",
    "challenge_features = pca.transform(challenge_data) # Principal components\n",
    "\n",
    "# Inference\n",
    "Y_chal_OvO = OvO_clf.predict(challenge_features)\n",
    "Y_chal_OvR = OvR_clf.predict(challenge_features)"
   ]
  },
  {
   "cell_type": "markdown",
   "metadata": {},
   "source": [
    "## Save results"
   ]
  },
  {
   "cell_type": "code",
   "execution_count": null,
   "metadata": {},
   "outputs": [],
   "source": [
    "#np.savetxt('Reto3_Ypred.csv', Y_chal_OvO, fmt='%i', delimiter=',')"
   ]
  },
  {
   "cell_type": "code",
   "execution_count": null,
   "metadata": {},
   "outputs": [],
   "source": []
  }
 ],
 "metadata": {
  "interpreter": {
   "hash": "31f2aee4e71d21fbe5cf8b01ff0e069b9275f58929596ceb00d14d90e3e16cd6"
  },
  "kernelspec": {
   "display_name": "Python 3 (ipykernel)",
   "language": "python",
   "name": "python3"
  },
  "language_info": {
   "codemirror_mode": {
    "name": "ipython",
    "version": 3
   },
   "file_extension": ".py",
   "mimetype": "text/x-python",
   "name": "python",
   "nbconvert_exporter": "python",
   "pygments_lexer": "ipython3",
   "version": "3.8.10"
  }
 },
 "nbformat": 4,
 "nbformat_minor": 1
}
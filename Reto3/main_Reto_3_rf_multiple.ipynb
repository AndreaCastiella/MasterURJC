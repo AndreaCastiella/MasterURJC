{
 "cells": [
  {
   "cell_type": "markdown",
   "metadata": {
    "collapsed": true,
    "pycharm": {
     "name": "#%% md\n"
    }
   },
   "source": [
    "# Reto 3\n",
    "\n",
    "## Miguel Ortiz y Andrea Castiella\n"
   ]
  },
  {
   "cell_type": "code",
   "execution_count": 1,
   "metadata": {
    "pycharm": {
     "name": "#%%\n"
    }
   },
   "outputs": [],
   "source": [
    "import numpy  as np\n",
    "import pandas as pd\n",
    "import OurUtils as our\n",
    "from sklearn.preprocessing import MinMaxScaler"
   ]
  },
  {
   "cell_type": "code",
   "execution_count": 2,
   "metadata": {
    "pycharm": {
     "name": "#%%\n"
    }
   },
   "outputs": [
    {
     "name": "stdout",
     "output_type": "stream",
     "text": [
      "   altitud  azimut  inclinacion  DH_agua  DV_agua  DH_camino  sombra_9am  \\\n",
      "0     3351     354           19      450       95       1064         185   \n",
      "1     2995      84            7      481       30       5154         231   \n",
      "2     2884      72           25      210      -45        466         239   \n",
      "3     3139      76           11      301       58       1368         234   \n",
      "4     3018     312           17       30       10       1719         172   \n",
      "\n",
      "   sombra_12pm  sombra_3pm  DH_fuego  ...  t31  t32  t33  t34  t35  t36  t37  \\\n",
      "0          203         153       711  ...    0    0    0    0    0    0    0   \n",
      "1          227         129      5488  ...    0    0    0    0    0    0    0   \n",
      "2          183          60      2123  ...    0    0    0    0    0    0    0   \n",
      "3          220         117      3282  ...    0    0    1    0    0    0    0   \n",
      "4          225         193      1961  ...    0    0    0    0    0    0    0   \n",
      "\n",
      "   t38  t39  t40  \n",
      "0    0    1    0  \n",
      "1    0    0    0  \n",
      "2    0    0    0  \n",
      "3    0    0    0  \n",
      "4    0    0    0  \n",
      "\n",
      "[5 rows x 54 columns]\n",
      "   tipo_bosque\n",
      "0            1\n",
      "1            2\n",
      "2            2\n",
      "3            1\n",
      "4            1\n"
     ]
    }
   ],
   "source": [
    "# Read data\n",
    "X_full = pd.read_csv('Reto 3-Dataset/reto3_trainX.csv', header=0, low_memory=False)\n",
    "Y_full = pd.read_csv('Reto 3-Dataset/reto3_trainY.csv', header=0, low_memory=False)\n",
    "\n",
    "print(X_full.head())\n",
    "print(Y_full.head())"
   ]
  },
  {
   "cell_type": "markdown",
   "metadata": {},
   "source": [
    "## Split data into train and validation. \n",
    "Train split: 80%\n",
    "\n",
    "Validation split: 20%"
   ]
  },
  {
   "cell_type": "code",
   "execution_count": 3,
   "metadata": {
    "pycharm": {
     "name": "#%%\n"
    }
   },
   "outputs": [],
   "source": [
    "# Split into train and validation\n",
    "valid_size = 0.2\n",
    "seed = 1234\n",
    "X_train, Y_train, X_valid, Y_valid = \\\n",
    "   our.single_stratified_split(X_full, Y_full, test_size=valid_size, random_state=seed)\n"
   ]
  },
  {
   "cell_type": "markdown",
   "metadata": {},
   "source": [
    "## Imbalanced class problem\n",
    "One approach to addressing imbalanced datasets is to oversample the minority class. The simplest approach involves duplicating examples in the minority class, although these examples don’t add any new information to the model. Instead, new examples can be synthesized from the existing examples. This is a type of data augmentation for the minority class and is referred to as the Synthetic Minority Oversampling Technique, or SMOTE for short.\n",
    "Random undersampling involves randomly selecting examples from the majority class and deleting them from the training dataset. [https://machinelearningmastery.com/random-oversampling-and-undersampling-for-imbalanced-classification/]"
   ]
  },
  {
   "cell_type": "code",
   "execution_count": 4,
   "metadata": {},
   "outputs": [],
   "source": [
    "from imblearn.over_sampling import SMOTE\n",
    "from imblearn.under_sampling import RandomUnderSampler\n",
    "\n",
    "over = SMOTE(random_state=seed, sampling_strategy={3:10000 , 4:10000 , 5: 10000, 6:10000 , 7:10000})\n",
    "X_train, Y_train = over.fit_resample(X_train, Y_train)\n",
    "\n",
    "under = RandomUnderSampler(random_state=seed, sampling_strategy={1:10000 , 2:10000})\n",
    "X_train, Y_train = over.fit_resample(X_train, Y_train)"
   ]
  },
  {
   "cell_type": "code",
   "execution_count": 12,
   "metadata": {},
   "outputs": [],
   "source": [
    "# X_train = X_train.iloc[:,[23, 0, 13, 5, 25, 35, 51]]\n",
    "# X_valid = X_valid.iloc[:,[23, 0, 13, 5, 25, 35, 51]]\n"
   ]
  },
  {
   "cell_type": "markdown",
   "metadata": {},
   "source": [
    "## Scale and transform features"
   ]
  },
  {
   "cell_type": "code",
   "execution_count": 5,
   "metadata": {
    "pycharm": {
     "name": "#%%\n"
    }
   },
   "outputs": [
    {
     "name": "stdout",
     "output_type": "stream",
     "text": [
      "aaaa\n",
      "aaaa\n",
      "t  FunctionTransformer(func=<ufunc 'log1p'>, validate=True)\n",
      "aaaa\n",
      "t  FunctionTransformer(func=<ufunc 'log1p'>, validate=True)\n"
     ]
    }
   ],
   "source": [
    "## train\n",
    "X, Y, scaler, pca, transformer = our.our_scale_transform_features(X_train,Y_train)\n",
    "print(\"t \", transformer)\n",
    "\n",
    "## val\n",
    "X_pred, Y_true, scaler, _, transformer = our.our_scale_transform_features(X_valid,Y_valid, scaler=scaler, transform=transformer)\n",
    "print(\"t \", transformer)"
   ]
  },
  {
   "cell_type": "markdown",
   "metadata": {},
   "source": [
    "## Random forest: estimators\n",
    "[Reference](https://medium.com/all-things-ai/in-depth-parameter-tuning-for-random-forest-d67bb7e920d)"
   ]
  },
  {
   "cell_type": "code",
   "execution_count": 11,
   "metadata": {
    "pycharm": {
     "is_executing": true,
     "name": "#%%\n"
    }
   },
   "outputs": [
    {
     "name": "stdout",
     "output_type": "stream",
     "text": [
      "=================\n",
      "accuracy :  0.787960931113119\n",
      "roc_auc  0.8494942385356598\n",
      "cohen accuracy:  0.6642113165150745\n",
      "=================\n",
      "\n",
      "\n",
      "accuracy :  0.7996213588055592\n",
      "roc_auc  0.9247822481775465\n",
      "cohen accuracy:  0.679825379667011\n",
      "=================\n",
      "\n",
      "\n",
      "accuracy :  0.8544382771825653\n",
      "roc_auc  0.9617583996396419\n",
      "cohen accuracy:  0.7672782836039196\n",
      "=================\n",
      "\n",
      "\n",
      "accuracy :  0.884514435695538\n",
      "roc_auc  0.978772405532154\n",
      "cohen accuracy:  0.8145212406120935\n",
      "=================\n",
      "\n",
      "\n",
      "accuracy :  0.8984122886278559\n",
      "roc_auc  0.986331604578515\n",
      "cohen accuracy:  0.8368510685735979\n",
      "=================\n",
      "\n",
      "\n",
      "accuracy :  0.9062432769674282\n",
      "roc_auc  0.99004076824193\n",
      "cohen accuracy:  0.8492411559737991\n",
      "=================\n",
      "\n",
      "\n",
      "accuracy :  0.9113635385740717\n",
      "roc_auc  0.991514890939062\n",
      "cohen accuracy:  0.8573723180293031\n",
      "=================\n",
      "\n",
      "\n",
      "accuracy :  0.9105460178133471\n",
      "roc_auc  0.9922957385823882\n",
      "cohen accuracy:  0.8560661689007184\n",
      "=================\n",
      "\n",
      "\n",
      "accuracy :  0.9119659222925003\n",
      "roc_auc  0.9924930442939485\n",
      "cohen accuracy:  0.8584370843498477\n",
      "=================\n",
      "\n",
      "\n"
     ]
    },
    {
     "data": {
      "image/png": "[encoded data removed]",
      "text/plain": [
       "<Figure size 432x288 with 1 Axes>"
      ]
     },
     "metadata": {
      "needs_background": "light"
     },
     "output_type": "display_data"
    }
   ],
   "source": [
    "# Multiclass\n",
    "from sklearn.ensemble import RandomForestClassifier\n",
    "from sklearn.metrics import roc_curve, auc, roc_auc_score, accuracy_score, cohen_kappa_score\n",
    "import matplotlib.pyplot as plt\n",
    "\n",
    "max_leaf_nodes = 16\n",
    "\n",
    "n_estimators = [1, 2, 4, 8, 16, 32, 64, 100, 200]\n",
    "train_results = []\n",
    "test_results = []\n",
    "cohen_list = []\n",
    "rf_list = []\n",
    "accuracy_list = []\n",
    "print(\"=================\")\n",
    "for estimator in n_estimators:\n",
    "   rf = RandomForestClassifier(n_estimators=estimator, n_jobs=-1)\n",
    "   rf.fit(X, Y)\n",
    "   rf_list.append(rf)\n",
    "   train_pred = rf.predict_proba(X)\n",
    "   roc_auc = roc_auc_score(Y, train_pred, multi_class='ovr')\n",
    "   train_results.append(roc_auc)\n",
    "   y_pred = rf.predict_proba(X_pred)\n",
    "   y_pred_label = rf.predict(X_pred)\n",
    "   roc_auc = roc_auc_score(Y_true, y_pred, multi_class='ovr')\n",
    "   accuracy = accuracy_score(Y_true,y_pred_label)\n",
    "   cohen = cohen_kappa_score(Y_true, y_pred_label)\n",
    "   cohen_list.append(cohen)\n",
    "   accuracy_list.append(accuracy)\n",
    "   print(\"accuracy : \", accuracy)\n",
    "   print(\"roc_auc \", roc_auc)\n",
    "   print(\"cohen accuracy: \", cohen)\n",
    "   print(\"=================\\n\\n\")\n",
    "   test_results.append(roc_auc)\n",
    "from matplotlib.legend_handler import HandlerLine2D\n",
    "line1, = plt.plot(n_estimators, train_results, 'b', label=\"Train AUC\")\n",
    "line2, = plt.plot(n_estimators, test_results, 'r', label=\"Test AUC\")\n",
    "line3, = plt.plot(n_estimators, cohen_list, 'g', label=\"Cohen accuracy\")\n",
    "line4, = plt.plot(n_estimators, accuracy_list, 'y', label=\"Normal accuracy\")\n",
    "plt.legend(handler_map={line1: HandlerLine2D(numpoints=2)})\n",
    "plt.ylabel(\"AUC score\")\n",
    "plt.xlabel(\"n_estimators\")\n",
    "plt.show()\n",
    "\n"
   ]
  },
  {
   "cell_type": "markdown",
   "metadata": {},
   "source": [
    "## Random forest: depths"
   ]
  },
  {
   "cell_type": "code",
   "execution_count": 19,
   "metadata": {},
   "outputs": [
    {
     "name": "stdout",
     "output_type": "stream",
     "text": [
      "accuracy :  0.4876726474764425\n",
      "roc_auc  0.8251040801666178\n",
      "accuracy :  0.5159846822425885\n",
      "roc_auc  0.8779252717423096\n",
      "accuracy :  0.5675315175766964\n",
      "roc_auc  0.9054333722724245\n",
      "accuracy :  0.6379243578159287\n",
      "roc_auc  0.9177325835317028\n",
      "accuracy :  0.6978185103911192\n",
      "roc_auc  0.9257017933627997\n",
      "accuracy :  0.7084893076889979\n",
      "roc_auc  0.9320260828444802\n",
      "accuracy :  0.7307775052708575\n",
      "roc_auc  0.9394713448478681\n",
      "accuracy :  0.7434705907663182\n",
      "roc_auc  0.9464162425051554\n",
      "accuracy :  0.7584011015016565\n",
      "roc_auc  0.9503016936916706\n",
      "accuracy :  0.7682543780388107\n",
      "roc_auc  0.9563264040374443\n",
      "accuracy :  0.7830127791403124\n",
      "roc_auc  0.960968359411279\n",
      "accuracy :  0.7937696312551095\n",
      "roc_auc  0.965255053676101\n",
      "accuracy :  0.8101630738780603\n",
      "roc_auc  0.970271446823232\n",
      "accuracy :  0.823329460866572\n",
      "roc_auc  0.9734767313203082\n",
      "accuracy :  0.8367540123058388\n",
      "roc_auc  0.9771920375365625\n",
      "accuracy :  0.8467793984768297\n",
      "roc_auc  0.9799065003812873\n",
      "accuracy :  0.8536207564218408\n",
      "roc_auc  0.9814101864409234\n",
      "accuracy :  0.8622692655221376\n",
      "roc_auc  0.9830084588950841\n",
      "accuracy :  0.8743599672991695\n",
      "roc_auc  0.9853623446355956\n",
      "accuracy :  0.8775009681166903\n",
      "roc_auc  0.9866414141474553\n",
      "accuracy :  0.8826212297233338\n",
      "roc_auc  0.9875039476685299\n",
      "accuracy :  0.8892044232175896\n",
      "roc_auc  0.9888257023750954\n",
      "accuracy :  0.8949700959511209\n",
      "roc_auc  0.9896979818055047\n",
      "accuracy :  0.8985413708532335\n",
      "roc_auc  0.9901507329431042\n",
      "accuracy :  0.9005206316423562\n",
      "roc_auc  0.9906563541106729\n",
      "accuracy :  0.9040488791360096\n",
      "roc_auc  0.9909934695121644\n",
      "accuracy :  0.9045221806290608\n",
      "roc_auc  0.9912686224467594\n",
      "accuracy :  0.907318962178908\n",
      "roc_auc  0.991405990208562\n",
      "accuracy :  0.9074480444042855\n",
      "roc_auc  0.9916807812278563\n",
      "accuracy :  0.9083946473903877\n",
      "roc_auc  0.9919659021162267\n",
      "accuracy :  0.9123961963770922\n",
      "roc_auc  0.9923069188812582\n",
      "accuracy :  0.9115786756163676\n",
      "roc_auc  0.9922055735601142\n"
     ]
    },
    {
     "data": {
      "image/png": "[encoded data removed]",
      "text/plain": [
       "<Figure size 432x288 with 1 Axes>"
      ]
     },
     "metadata": {
      "needs_background": "light"
     },
     "output_type": "display_data"
    }
   ],
   "source": [
    "# Multiclass\n",
    "from sklearn.ensemble import RandomForestClassifier\n",
    "from sklearn.metrics import roc_curve, auc\n",
    "import matplotlib.pyplot as plt\n",
    "\n",
    "max_depths = np.linspace(1, 32, 32, endpoint=True)\n",
    "train_results = []\n",
    "test_results = []\n",
    "for max_depth in max_depths:\n",
    "   rf = RandomForestClassifier(max_depth=max_depth, n_jobs=-1)\n",
    "   rf.fit(X, Y)\n",
    "   train_pred = rf.predict_proba(X)\n",
    "   roc_auc = roc_auc_score(Y, train_pred, multi_class='ovr')\n",
    "   train_results.append(roc_auc)\n",
    "   y_pred = rf.predict_proba(X_pred)\n",
    "   y_pred_label = rf.predict(X_pred)\n",
    "   roc_auc = roc_auc_score(Y_true, y_pred, multi_class='ovr')\n",
    "   accuracy = accuracy_score(Y_true,y_pred_label)\n",
    "   print(\"accuracy : \", accuracy)\n",
    "   print(\"roc_auc \", roc_auc)\n",
    "   test_results.append(roc_auc)\n",
    "from matplotlib.legend_handler import HandlerLine2D\n",
    "line1, = plt.plot(max_depths, train_results, 'b', label=\"Train AUC\")\n",
    "line2, = plt.plot(max_depths, test_results, 'r', label=\"Test AUC\")\n",
    "plt.legend(handler_map={line1: HandlerLine2D(numpoints=2)})\n",
    "plt.ylabel(\"AUC score\")\n",
    "plt.xlabel(\"max_depth\")\n",
    "plt.show()\n"
   ]
  },
  {
   "cell_type": "markdown",
   "metadata": {},
   "source": [
    "## Select Random forest model"
   ]
  },
  {
   "cell_type": "code",
   "execution_count": 7,
   "metadata": {},
   "outputs": [],
   "source": [
    "rf = rf_list[5] # n_estimators: 32"
   ]
  },
  {
   "cell_type": "markdown",
   "metadata": {},
   "source": [
    "## Competition data"
   ]
  },
  {
   "cell_type": "code",
   "execution_count": 8,
   "metadata": {},
   "outputs": [
    {
     "name": "stdout",
     "output_type": "stream",
     "text": [
      "t  FunctionTransformer(func=<ufunc 'log1p'>, validate=True)\n"
     ]
    }
   ],
   "source": [
    "# Load competition data\n",
    "challenge_data = pd.read_csv('Reto 3-Dataset/reto3_testX.csv', header=0)\n",
    "challenge_data = scaler.transform(challenge_data)\n",
    "challenge_data = transformer.fit_transform(challenge_data)\n",
    "\n",
    "# Inference\n",
    "Y_chal = rf.predict(challenge_data)"
   ]
  },
  {
   "cell_type": "markdown",
   "metadata": {},
   "source": [
    "## Save results"
   ]
  },
  {
   "cell_type": "code",
   "execution_count": 9,
   "metadata": {},
   "outputs": [],
   "source": [
    "np.savetxt('reto3_Ypred.csv', Y_chal, fmt='%i', delimiter=',')"
   ]
  }
 ],
 "metadata": {
  "interpreter": {
   "hash": "31f2aee4e71d21fbe5cf8b01ff0e069b9275f58929596ceb00d14d90e3e16cd6"
  },
  "kernelspec": {
   "display_name": "Python 3 (ipykernel)",
   "language": "python",
   "name": "python3"
  },
  "language_info": {
   "codemirror_mode": {
    "name": "ipython",
    "version": 3
   },
   "file_extension": ".py",
   "mimetype": "text/x-python",
   "name": "python",
   "nbconvert_exporter": "python",
   "pygments_lexer": "ipython3",
   "version": "3.6.9"
  }
 },
 "nbformat": 4,
 "nbformat_minor": 1
}
